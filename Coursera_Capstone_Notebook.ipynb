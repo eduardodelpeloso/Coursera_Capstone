{
 "cells": [
  {
   "cell_type": "markdown",
   "metadata": {},
   "source": [
    "# Assignment PART I"
   ]
  },
  {
   "cell_type": "markdown",
   "metadata": {},
   "source": [
    "Import pandas:"
   ]
  },
  {
   "cell_type": "code",
   "execution_count": 1,
   "metadata": {
    "ExecuteTime": {
     "end_time": "2020-07-27T12:35:53.052607Z",
     "start_time": "2020-07-27T12:35:52.776815Z"
    }
   },
   "outputs": [],
   "source": [
    "import pandas as pd"
   ]
  },
  {
   "cell_type": "markdown",
   "metadata": {},
   "source": [
    "Scrap all tables in webpage using a single pandas line of code:"
   ]
  },
  {
   "cell_type": "code",
   "execution_count": 2,
   "metadata": {
    "ExecuteTime": {
     "end_time": "2020-07-27T12:35:53.191221Z",
     "start_time": "2020-07-27T12:35:53.054136Z"
    }
   },
   "outputs": [],
   "source": [
    "data = pd.read_html('https://en.wikipedia.org/wiki/List_of_postal_codes_of_Canada:_M')"
   ]
  },
  {
   "cell_type": "markdown",
   "metadata": {},
   "source": [
    "How many tables were scrapped?"
   ]
  },
  {
   "cell_type": "code",
   "execution_count": 3,
   "metadata": {
    "ExecuteTime": {
     "end_time": "2020-07-27T12:35:53.198027Z",
     "start_time": "2020-07-27T12:35:53.192482Z"
    }
   },
   "outputs": [
    {
     "data": {
      "text/plain": [
       "3"
      ]
     },
     "execution_count": 3,
     "metadata": {},
     "output_type": "execute_result"
    }
   ],
   "source": [
    "len(data)\n"
   ]
  },
  {
   "cell_type": "markdown",
   "metadata": {},
   "source": [
    "Let's be sure that the first table is the one we want:"
   ]
  },
  {
   "cell_type": "code",
   "execution_count": 4,
   "metadata": {
    "ExecuteTime": {
     "end_time": "2020-07-27T12:35:53.208179Z",
     "start_time": "2020-07-27T12:35:53.199420Z"
    }
   },
   "outputs": [
    {
     "data": {
      "text/html": [
       "<div>\n",
       "<style scoped>\n",
       "    .dataframe tbody tr th:only-of-type {\n",
       "        vertical-align: middle;\n",
       "    }\n",
       "\n",
       "    .dataframe tbody tr th {\n",
       "        vertical-align: top;\n",
       "    }\n",
       "\n",
       "    .dataframe thead th {\n",
       "        text-align: right;\n",
       "    }\n",
       "</style>\n",
       "<table border=\"1\" class=\"dataframe\">\n",
       "  <thead>\n",
       "    <tr style=\"text-align: right;\">\n",
       "      <th></th>\n",
       "      <th>Postal Code</th>\n",
       "      <th>Borough</th>\n",
       "      <th>Neighbourhood</th>\n",
       "    </tr>\n",
       "  </thead>\n",
       "  <tbody>\n",
       "    <tr>\n",
       "      <th>0</th>\n",
       "      <td>M1A</td>\n",
       "      <td>Not assigned</td>\n",
       "      <td>Not assigned</td>\n",
       "    </tr>\n",
       "    <tr>\n",
       "      <th>1</th>\n",
       "      <td>M2A</td>\n",
       "      <td>Not assigned</td>\n",
       "      <td>Not assigned</td>\n",
       "    </tr>\n",
       "    <tr>\n",
       "      <th>2</th>\n",
       "      <td>M3A</td>\n",
       "      <td>North York</td>\n",
       "      <td>Parkwoods</td>\n",
       "    </tr>\n",
       "    <tr>\n",
       "      <th>3</th>\n",
       "      <td>M4A</td>\n",
       "      <td>North York</td>\n",
       "      <td>Victoria Village</td>\n",
       "    </tr>\n",
       "    <tr>\n",
       "      <th>4</th>\n",
       "      <td>M5A</td>\n",
       "      <td>Downtown Toronto</td>\n",
       "      <td>Regent Park, Harbourfront</td>\n",
       "    </tr>\n",
       "    <tr>\n",
       "      <th>...</th>\n",
       "      <td>...</td>\n",
       "      <td>...</td>\n",
       "      <td>...</td>\n",
       "    </tr>\n",
       "    <tr>\n",
       "      <th>175</th>\n",
       "      <td>M5Z</td>\n",
       "      <td>Not assigned</td>\n",
       "      <td>Not assigned</td>\n",
       "    </tr>\n",
       "    <tr>\n",
       "      <th>176</th>\n",
       "      <td>M6Z</td>\n",
       "      <td>Not assigned</td>\n",
       "      <td>Not assigned</td>\n",
       "    </tr>\n",
       "    <tr>\n",
       "      <th>177</th>\n",
       "      <td>M7Z</td>\n",
       "      <td>Not assigned</td>\n",
       "      <td>Not assigned</td>\n",
       "    </tr>\n",
       "    <tr>\n",
       "      <th>178</th>\n",
       "      <td>M8Z</td>\n",
       "      <td>Etobicoke</td>\n",
       "      <td>Mimico NW, The Queensway West, South of Bloor,...</td>\n",
       "    </tr>\n",
       "    <tr>\n",
       "      <th>179</th>\n",
       "      <td>M9Z</td>\n",
       "      <td>Not assigned</td>\n",
       "      <td>Not assigned</td>\n",
       "    </tr>\n",
       "  </tbody>\n",
       "</table>\n",
       "<p>180 rows × 3 columns</p>\n",
       "</div>"
      ],
      "text/plain": [
       "    Postal Code           Borough  \\\n",
       "0           M1A      Not assigned   \n",
       "1           M2A      Not assigned   \n",
       "2           M3A        North York   \n",
       "3           M4A        North York   \n",
       "4           M5A  Downtown Toronto   \n",
       "..          ...               ...   \n",
       "175         M5Z      Not assigned   \n",
       "176         M6Z      Not assigned   \n",
       "177         M7Z      Not assigned   \n",
       "178         M8Z         Etobicoke   \n",
       "179         M9Z      Not assigned   \n",
       "\n",
       "                                         Neighbourhood  \n",
       "0                                         Not assigned  \n",
       "1                                         Not assigned  \n",
       "2                                            Parkwoods  \n",
       "3                                     Victoria Village  \n",
       "4                            Regent Park, Harbourfront  \n",
       "..                                                 ...  \n",
       "175                                       Not assigned  \n",
       "176                                       Not assigned  \n",
       "177                                       Not assigned  \n",
       "178  Mimico NW, The Queensway West, South of Bloor,...  \n",
       "179                                       Not assigned  \n",
       "\n",
       "[180 rows x 3 columns]"
      ]
     },
     "execution_count": 4,
     "metadata": {},
     "output_type": "execute_result"
    }
   ],
   "source": [
    "data[0]"
   ]
  },
  {
   "cell_type": "markdown",
   "metadata": {},
   "source": [
    "Yes, that's the right one! How many rows have 'Not assigned' boroughs?"
   ]
  },
  {
   "cell_type": "code",
   "execution_count": 5,
   "metadata": {
    "ExecuteTime": {
     "end_time": "2020-07-27T12:35:53.215252Z",
     "start_time": "2020-07-27T12:35:53.209347Z"
    }
   },
   "outputs": [
    {
     "data": {
      "text/plain": [
       "77"
      ]
     },
     "execution_count": 5,
     "metadata": {},
     "output_type": "execute_result"
    }
   ],
   "source": [
    "data[0].Borough[data[0]['Neighbourhood'] == 'Not assigned'].count()"
   ]
  },
  {
   "cell_type": "markdown",
   "metadata": {},
   "source": [
    "Well, let's remove these rows, and hopefully we'll end up with 103 rows..."
   ]
  },
  {
   "cell_type": "code",
   "execution_count": 6,
   "metadata": {
    "ExecuteTime": {
     "end_time": "2020-07-27T12:35:53.220074Z",
     "start_time": "2020-07-27T12:35:53.217021Z"
    }
   },
   "outputs": [],
   "source": [
    "nonnull_data = data[0][data[0]['Borough'] != 'Not assigned']"
   ]
  },
  {
   "cell_type": "code",
   "execution_count": 7,
   "metadata": {
    "ExecuteTime": {
     "end_time": "2020-07-27T12:35:53.230354Z",
     "start_time": "2020-07-27T12:35:53.222036Z"
    }
   },
   "outputs": [
    {
     "data": {
      "text/html": [
       "<div>\n",
       "<style scoped>\n",
       "    .dataframe tbody tr th:only-of-type {\n",
       "        vertical-align: middle;\n",
       "    }\n",
       "\n",
       "    .dataframe tbody tr th {\n",
       "        vertical-align: top;\n",
       "    }\n",
       "\n",
       "    .dataframe thead th {\n",
       "        text-align: right;\n",
       "    }\n",
       "</style>\n",
       "<table border=\"1\" class=\"dataframe\">\n",
       "  <thead>\n",
       "    <tr style=\"text-align: right;\">\n",
       "      <th></th>\n",
       "      <th>Postal Code</th>\n",
       "      <th>Borough</th>\n",
       "      <th>Neighbourhood</th>\n",
       "    </tr>\n",
       "  </thead>\n",
       "  <tbody>\n",
       "    <tr>\n",
       "      <th>2</th>\n",
       "      <td>M3A</td>\n",
       "      <td>North York</td>\n",
       "      <td>Parkwoods</td>\n",
       "    </tr>\n",
       "    <tr>\n",
       "      <th>3</th>\n",
       "      <td>M4A</td>\n",
       "      <td>North York</td>\n",
       "      <td>Victoria Village</td>\n",
       "    </tr>\n",
       "    <tr>\n",
       "      <th>4</th>\n",
       "      <td>M5A</td>\n",
       "      <td>Downtown Toronto</td>\n",
       "      <td>Regent Park, Harbourfront</td>\n",
       "    </tr>\n",
       "    <tr>\n",
       "      <th>5</th>\n",
       "      <td>M6A</td>\n",
       "      <td>North York</td>\n",
       "      <td>Lawrence Manor, Lawrence Heights</td>\n",
       "    </tr>\n",
       "    <tr>\n",
       "      <th>6</th>\n",
       "      <td>M7A</td>\n",
       "      <td>Downtown Toronto</td>\n",
       "      <td>Queen's Park, Ontario Provincial Government</td>\n",
       "    </tr>\n",
       "    <tr>\n",
       "      <th>...</th>\n",
       "      <td>...</td>\n",
       "      <td>...</td>\n",
       "      <td>...</td>\n",
       "    </tr>\n",
       "    <tr>\n",
       "      <th>160</th>\n",
       "      <td>M8X</td>\n",
       "      <td>Etobicoke</td>\n",
       "      <td>The Kingsway, Montgomery Road, Old Mill North</td>\n",
       "    </tr>\n",
       "    <tr>\n",
       "      <th>165</th>\n",
       "      <td>M4Y</td>\n",
       "      <td>Downtown Toronto</td>\n",
       "      <td>Church and Wellesley</td>\n",
       "    </tr>\n",
       "    <tr>\n",
       "      <th>168</th>\n",
       "      <td>M7Y</td>\n",
       "      <td>East Toronto</td>\n",
       "      <td>Business reply mail Processing Centre, South C...</td>\n",
       "    </tr>\n",
       "    <tr>\n",
       "      <th>169</th>\n",
       "      <td>M8Y</td>\n",
       "      <td>Etobicoke</td>\n",
       "      <td>Old Mill South, King's Mill Park, Sunnylea, Hu...</td>\n",
       "    </tr>\n",
       "    <tr>\n",
       "      <th>178</th>\n",
       "      <td>M8Z</td>\n",
       "      <td>Etobicoke</td>\n",
       "      <td>Mimico NW, The Queensway West, South of Bloor,...</td>\n",
       "    </tr>\n",
       "  </tbody>\n",
       "</table>\n",
       "<p>103 rows × 3 columns</p>\n",
       "</div>"
      ],
      "text/plain": [
       "    Postal Code           Borough  \\\n",
       "2           M3A        North York   \n",
       "3           M4A        North York   \n",
       "4           M5A  Downtown Toronto   \n",
       "5           M6A        North York   \n",
       "6           M7A  Downtown Toronto   \n",
       "..          ...               ...   \n",
       "160         M8X         Etobicoke   \n",
       "165         M4Y  Downtown Toronto   \n",
       "168         M7Y      East Toronto   \n",
       "169         M8Y         Etobicoke   \n",
       "178         M8Z         Etobicoke   \n",
       "\n",
       "                                         Neighbourhood  \n",
       "2                                            Parkwoods  \n",
       "3                                     Victoria Village  \n",
       "4                            Regent Park, Harbourfront  \n",
       "5                     Lawrence Manor, Lawrence Heights  \n",
       "6          Queen's Park, Ontario Provincial Government  \n",
       "..                                                 ...  \n",
       "160      The Kingsway, Montgomery Road, Old Mill North  \n",
       "165                               Church and Wellesley  \n",
       "168  Business reply mail Processing Centre, South C...  \n",
       "169  Old Mill South, King's Mill Park, Sunnylea, Hu...  \n",
       "178  Mimico NW, The Queensway West, South of Bloor,...  \n",
       "\n",
       "[103 rows x 3 columns]"
      ]
     },
     "execution_count": 7,
     "metadata": {},
     "output_type": "execute_result"
    }
   ],
   "source": [
    "nonnull_data"
   ]
  },
  {
   "cell_type": "markdown",
   "metadata": {},
   "source": [
    "Nice, we are left with the expected number of rows\n",
    "\n",
    "Now let's find out if there are any rows with 'Not assigned' noeighbourhoods..."
   ]
  },
  {
   "cell_type": "code",
   "execution_count": 8,
   "metadata": {
    "ExecuteTime": {
     "end_time": "2020-07-27T12:35:53.235436Z",
     "start_time": "2020-07-27T12:35:53.231786Z"
    }
   },
   "outputs": [
    {
     "data": {
      "text/plain": [
       "0"
      ]
     },
     "execution_count": 8,
     "metadata": {},
     "output_type": "execute_result"
    }
   ],
   "source": [
    "nonnull_data.Borough[nonnull_data['Neighbourhood'] == 'Not assigned'].count()"
   ]
  },
  {
   "cell_type": "markdown",
   "metadata": {},
   "source": [
    "No, there aren't. So our cleanup is nearly done!"
   ]
  },
  {
   "cell_type": "markdown",
   "metadata": {},
   "source": [
    "Finally, let's reset the table index, rename some columns so that they have exactly the names that appear in the assignment task text, take a look at the first 5 rows to be double sure that everything seems OK, and use the .shape method to print the number of rows of our dataframe:"
   ]
  },
  {
   "cell_type": "code",
   "execution_count": 9,
   "metadata": {
    "ExecuteTime": {
     "end_time": "2020-07-27T12:35:53.242564Z",
     "start_time": "2020-07-27T12:35:53.236704Z"
    }
   },
   "outputs": [
    {
     "name": "stdout",
     "output_type": "stream",
     "text": [
      "  PostalCode           Borough                                 Neighborhood\n",
      "0        M3A        North York                                    Parkwoods\n",
      "1        M4A        North York                             Victoria Village\n",
      "2        M5A  Downtown Toronto                    Regent Park, Harbourfront\n",
      "3        M6A        North York             Lawrence Manor, Lawrence Heights\n",
      "4        M7A  Downtown Toronto  Queen's Park, Ontario Provincial Government\n"
     ]
    },
    {
     "data": {
      "text/plain": [
       "(103, 3)"
      ]
     },
     "execution_count": 9,
     "metadata": {},
     "output_type": "execute_result"
    }
   ],
   "source": [
    "nonnull_data.reset_index(drop=True,inplace=True)\n",
    "nonnull_data.columns = ['PostalCode','Borough','Neighborhood']\n",
    "print(nonnull_data.head())\n",
    "nonnull_data.shape\n"
   ]
  },
  {
   "cell_type": "markdown",
   "metadata": {},
   "source": [
    "# Assignment PART II"
   ]
  },
  {
   "cell_type": "markdown",
   "metadata": {},
   "source": [
    "Tried the Geocoder package. Unfortunately it doesn't work...\n",
    "Will use the csv file located at https://cocl.us/Geospatial_data:"
   ]
  },
  {
   "cell_type": "code",
   "execution_count": 10,
   "metadata": {
    "ExecuteTime": {
     "end_time": "2020-07-27T12:35:58.424424Z",
     "start_time": "2020-07-27T12:35:53.243745Z"
    }
   },
   "outputs": [
    {
     "name": "stdout",
     "output_type": "stream",
     "text": [
      "--2020-07-27 14:35:53--  https://cocl.us/Geospatial_data\n",
      "Resolving cocl.us (cocl.us)... 159.8.69.21, 159.8.72.228, 159.8.69.24\n",
      "Connecting to cocl.us (cocl.us)|159.8.69.21|:443... connected.\n",
      "HTTP request sent, awaiting response... 301 Moved Permanently\n",
      "Location: https://ibm.box.com/shared/static/9afzr83pps4pwf2smjjcf1y5mvgb18rr.csv [following]\n",
      "--2020-07-27 14:35:56--  https://ibm.box.com/shared/static/9afzr83pps4pwf2smjjcf1y5mvgb18rr.csv\n",
      "Resolving ibm.box.com (ibm.box.com)... 185.235.236.197\n",
      "Connecting to ibm.box.com (ibm.box.com)|185.235.236.197|:443... connected.\n",
      "HTTP request sent, awaiting response... 301 Moved Permanently\n",
      "Location: /public/static/9afzr83pps4pwf2smjjcf1y5mvgb18rr.csv [following]\n",
      "--2020-07-27 14:35:56--  https://ibm.box.com/public/static/9afzr83pps4pwf2smjjcf1y5mvgb18rr.csv\n",
      "Reusing existing connection to ibm.box.com:443.\n",
      "HTTP request sent, awaiting response... 301 Moved Permanently\n",
      "Location: https://ibm.ent.box.com/public/static/9afzr83pps4pwf2smjjcf1y5mvgb18rr.csv [following]\n",
      "--2020-07-27 14:35:57--  https://ibm.ent.box.com/public/static/9afzr83pps4pwf2smjjcf1y5mvgb18rr.csv\n",
      "Resolving ibm.ent.box.com (ibm.ent.box.com)... 185.235.236.201\n",
      "Connecting to ibm.ent.box.com (ibm.ent.box.com)|185.235.236.201|:443... connected.\n",
      "HTTP request sent, awaiting response... 302 Found\n",
      "Location: https://public.boxcloud.com/d/1/b1!0ap63Zxa7AH_-q3SYogBCUfUfXbe6f6zKySi693j9z6Q1zfi7cwMf_TpD_XaAKtS05tvl99Rgbpi2TgGrS5yO8tqCfmLptnPjNoFoNgJT88ztKZxH2k2rEtR1e_QqgZvZRYtKkA6XHVZ4MDmu7bc8lH2rCXq5wmuJ2aU9SjDVxhXmuZOsY7LIFlLvtG3Ru4okasMTgaUEZyHOOClqOSmKjJuIHJJmxVBRVHVZemicS1BReGPg2YXymc6qIerXrQBBV8E0AURtafbcJRSxDSCdsWtYsByQoFx9fvYs4kK9xDxwr7wxfCkdGzFNsFQi7j6b5Rgt3fXdB_-7RZX57s-F8oHp-f54scPSzecX9yHhCu2GpF9xpyAQC_6c2srPv6ZVzcQh5Aud00pjQ1saekrdPaz6Y_bAkRZV1kUBz2gTL14oiR20Q73xtJkKvBNDnO03HqeMKM2pilRNlky-mmHfmmcl-xXir9tCh2JIo_dyz3W_tOce1Js6Dzack9JDvKF4XktOOo1HzcQVgEYknoyz4twA_9SMqAil7rlOqsKJBgB2s-kzXzkGg4r-s1Rxmm4IL9UrQc-J5FmmhAQBC8EFHfWnImz0Y0xOr6M5By9sRMzMeq4iYTurxeGcbtyBabzKY1G_cX3Gv5llB8aB01KlsAmPGBtSlQxu06t_Lz5yuZtL1PYKZKqVmvI31KE08I-irtIOPE8fFq0ZQw4p_UtiWqfSVBVd9mNAcWMLgmZ8TQCW_-uYMtrMiJDAEAamrvDukT5_bOZ0sQwpQmS11WbuHj_VjpWFztKr7UyrDLC26CooPiTpN1aHAyURQI_LWk4Kl6oCS4XvLwcgFzzgSZg5l0gzj3PSIxUKDxuI253eENGRkrZ6Kj4QBYtPzU8asSGdVwpEi3d-4lfcO5SitjGuxKxNOz36oT9NTeGl2xZMMqjbprFBu0nA2gyVsiOzUI_P7OxFBLbacc8-Tv1O24rS_RTR9txPJ6UULAeRHvfyfYzvG7U0OhquryOGDVgnRF-pDdBEXP9anu4s6M9o1X-_QHZMDkgFEsadokNB8RYyb06pbToHCHgUA9jpGxT3RTO3q2sn7saCw7zJnsPGG74jm5R_DXkDe1afBTvoqPfcImtMF6bGt2uPCqHwQ_Ymor_sXmpwkzrWuAw300bpQSveegJv1T9qrBadRpOlqu6Kt9Ew1iCXuleyTS16IZv-JtnzUmPib3Z2hyGpkC9Gudxz4EYMkJHqWiJCa-CQRXsrrDmO_6_pTKKi_PoGpqlFB3iEQaxyPM9ojGmW2Pjr_MChO5f0xJuCyWW6ypwRa2IePmObgQ9TtCmZwAsmFZ-WBawf3bVFI5IeSMuyB-vST1gHmoSc5NuFkxj3kJnCq68fGrqNv05tTDME-8XEh_Ovs0OHhynwmEKhvKBATdRWvNfPZvDHwoGvnXCc7yC_2NUjyIy/download [following]\n",
      "--2020-07-27 14:35:57--  https://public.boxcloud.com/d/1/b1!0ap63Zxa7AH_-q3SYogBCUfUfXbe6f6zKySi693j9z6Q1zfi7cwMf_TpD_XaAKtS05tvl99Rgbpi2TgGrS5yO8tqCfmLptnPjNoFoNgJT88ztKZxH2k2rEtR1e_QqgZvZRYtKkA6XHVZ4MDmu7bc8lH2rCXq5wmuJ2aU9SjDVxhXmuZOsY7LIFlLvtG3Ru4okasMTgaUEZyHOOClqOSmKjJuIHJJmxVBRVHVZemicS1BReGPg2YXymc6qIerXrQBBV8E0AURtafbcJRSxDSCdsWtYsByQoFx9fvYs4kK9xDxwr7wxfCkdGzFNsFQi7j6b5Rgt3fXdB_-7RZX57s-F8oHp-f54scPSzecX9yHhCu2GpF9xpyAQC_6c2srPv6ZVzcQh5Aud00pjQ1saekrdPaz6Y_bAkRZV1kUBz2gTL14oiR20Q73xtJkKvBNDnO03HqeMKM2pilRNlky-mmHfmmcl-xXir9tCh2JIo_dyz3W_tOce1Js6Dzack9JDvKF4XktOOo1HzcQVgEYknoyz4twA_9SMqAil7rlOqsKJBgB2s-kzXzkGg4r-s1Rxmm4IL9UrQc-J5FmmhAQBC8EFHfWnImz0Y0xOr6M5By9sRMzMeq4iYTurxeGcbtyBabzKY1G_cX3Gv5llB8aB01KlsAmPGBtSlQxu06t_Lz5yuZtL1PYKZKqVmvI31KE08I-irtIOPE8fFq0ZQw4p_UtiWqfSVBVd9mNAcWMLgmZ8TQCW_-uYMtrMiJDAEAamrvDukT5_bOZ0sQwpQmS11WbuHj_VjpWFztKr7UyrDLC26CooPiTpN1aHAyURQI_LWk4Kl6oCS4XvLwcgFzzgSZg5l0gzj3PSIxUKDxuI253eENGRkrZ6Kj4QBYtPzU8asSGdVwpEi3d-4lfcO5SitjGuxKxNOz36oT9NTeGl2xZMMqjbprFBu0nA2gyVsiOzUI_P7OxFBLbacc8-Tv1O24rS_RTR9txPJ6UULAeRHvfyfYzvG7U0OhquryOGDVgnRF-pDdBEXP9anu4s6M9o1X-_QHZMDkgFEsadokNB8RYyb06pbToHCHgUA9jpGxT3RTO3q2sn7saCw7zJnsPGG74jm5R_DXkDe1afBTvoqPfcImtMF6bGt2uPCqHwQ_Ymor_sXmpwkzrWuAw300bpQSveegJv1T9qrBadRpOlqu6Kt9Ew1iCXuleyTS16IZv-JtnzUmPib3Z2hyGpkC9Gudxz4EYMkJHqWiJCa-CQRXsrrDmO_6_pTKKi_PoGpqlFB3iEQaxyPM9ojGmW2Pjr_MChO5f0xJuCyWW6ypwRa2IePmObgQ9TtCmZwAsmFZ-WBawf3bVFI5IeSMuyB-vST1gHmoSc5NuFkxj3kJnCq68fGrqNv05tTDME-8XEh_Ovs0OHhynwmEKhvKBATdRWvNfPZvDHwoGvnXCc7yC_2NUjyIy/download\n",
      "Resolving public.boxcloud.com (public.boxcloud.com)... 185.235.236.200\n",
      "Connecting to public.boxcloud.com (public.boxcloud.com)|185.235.236.200|:443... connected.\n",
      "HTTP request sent, awaiting response... 200 OK\n",
      "Length: 2891 (2,8K) [text/csv]\n",
      "Saving to: ‘Geospatial_Coordinates.csv’\n",
      "\n",
      "Geospatial_Coordina 100%[===================>]   2,82K  --.-KB/s    in 0s      \n",
      "\n",
      "2020-07-27 14:35:58 (484 MB/s) - ‘Geospatial_Coordinates.csv’ saved [2891/2891]\n",
      "\n"
     ]
    }
   ],
   "source": [
    "!wget -O Geospatial_Coordinates.csv https://cocl.us/Geospatial_data"
   ]
  },
  {
   "cell_type": "markdown",
   "metadata": {},
   "source": [
    "Now we read the file into a pandas dataframe:"
   ]
  },
  {
   "cell_type": "code",
   "execution_count": 11,
   "metadata": {
    "ExecuteTime": {
     "end_time": "2020-07-27T12:35:58.432591Z",
     "start_time": "2020-07-27T12:35:58.426953Z"
    }
   },
   "outputs": [],
   "source": [
    "coord = pd.read_csv(\"Geospatial_Coordinates.csv\")"
   ]
  },
  {
   "cell_type": "markdown",
   "metadata": {},
   "source": [
    "And we rename the 'Postal Code' column to 'PostalCode' so that it is equal to the column in nonnull_data and it can be used as the key to merge:"
   ]
  },
  {
   "cell_type": "code",
   "execution_count": 12,
   "metadata": {
    "ExecuteTime": {
     "end_time": "2020-07-27T12:35:58.436891Z",
     "start_time": "2020-07-27T12:35:58.433936Z"
    }
   },
   "outputs": [],
   "source": [
    "coord.rename(columns={\"Postal Code\": \"PostalCode\"}, inplace=True)"
   ]
  },
  {
   "cell_type": "code",
   "execution_count": 13,
   "metadata": {
    "ExecuteTime": {
     "end_time": "2020-07-27T12:35:58.447812Z",
     "start_time": "2020-07-27T12:35:58.438343Z"
    }
   },
   "outputs": [
    {
     "data": {
      "text/html": [
       "<div>\n",
       "<style scoped>\n",
       "    .dataframe tbody tr th:only-of-type {\n",
       "        vertical-align: middle;\n",
       "    }\n",
       "\n",
       "    .dataframe tbody tr th {\n",
       "        vertical-align: top;\n",
       "    }\n",
       "\n",
       "    .dataframe thead th {\n",
       "        text-align: right;\n",
       "    }\n",
       "</style>\n",
       "<table border=\"1\" class=\"dataframe\">\n",
       "  <thead>\n",
       "    <tr style=\"text-align: right;\">\n",
       "      <th></th>\n",
       "      <th>PostalCode</th>\n",
       "      <th>Latitude</th>\n",
       "      <th>Longitude</th>\n",
       "    </tr>\n",
       "  </thead>\n",
       "  <tbody>\n",
       "    <tr>\n",
       "      <th>0</th>\n",
       "      <td>M1B</td>\n",
       "      <td>43.806686</td>\n",
       "      <td>-79.194353</td>\n",
       "    </tr>\n",
       "    <tr>\n",
       "      <th>1</th>\n",
       "      <td>M1C</td>\n",
       "      <td>43.784535</td>\n",
       "      <td>-79.160497</td>\n",
       "    </tr>\n",
       "    <tr>\n",
       "      <th>2</th>\n",
       "      <td>M1E</td>\n",
       "      <td>43.763573</td>\n",
       "      <td>-79.188711</td>\n",
       "    </tr>\n",
       "    <tr>\n",
       "      <th>3</th>\n",
       "      <td>M1G</td>\n",
       "      <td>43.770992</td>\n",
       "      <td>-79.216917</td>\n",
       "    </tr>\n",
       "    <tr>\n",
       "      <th>4</th>\n",
       "      <td>M1H</td>\n",
       "      <td>43.773136</td>\n",
       "      <td>-79.239476</td>\n",
       "    </tr>\n",
       "  </tbody>\n",
       "</table>\n",
       "</div>"
      ],
      "text/plain": [
       "  PostalCode   Latitude  Longitude\n",
       "0        M1B  43.806686 -79.194353\n",
       "1        M1C  43.784535 -79.160497\n",
       "2        M1E  43.763573 -79.188711\n",
       "3        M1G  43.770992 -79.216917\n",
       "4        M1H  43.773136 -79.239476"
      ]
     },
     "execution_count": 13,
     "metadata": {},
     "output_type": "execute_result"
    }
   ],
   "source": [
    "coord.head()"
   ]
  },
  {
   "cell_type": "markdown",
   "metadata": {},
   "source": [
    "Now, let's merge the nonnull_data and coord data frames:"
   ]
  },
  {
   "cell_type": "code",
   "execution_count": 14,
   "metadata": {
    "ExecuteTime": {
     "end_time": "2020-07-27T12:35:58.455093Z",
     "start_time": "2020-07-27T12:35:58.449278Z"
    }
   },
   "outputs": [],
   "source": [
    "final_df = nonnull_data.merge(coord, on='PostalCode')"
   ]
  },
  {
   "cell_type": "markdown",
   "metadata": {},
   "source": [
    "Let's see if our final dataframe is as expected..."
   ]
  },
  {
   "cell_type": "code",
   "execution_count": 15,
   "metadata": {
    "ExecuteTime": {
     "end_time": "2020-07-27T12:35:58.462950Z",
     "start_time": "2020-07-27T12:35:58.456632Z"
    }
   },
   "outputs": [
    {
     "name": "stdout",
     "output_type": "stream",
     "text": [
      "  PostalCode           Borough                                 Neighborhood  \\\n",
      "0        M3A        North York                                    Parkwoods   \n",
      "1        M4A        North York                             Victoria Village   \n",
      "2        M5A  Downtown Toronto                    Regent Park, Harbourfront   \n",
      "3        M6A        North York             Lawrence Manor, Lawrence Heights   \n",
      "4        M7A  Downtown Toronto  Queen's Park, Ontario Provincial Government   \n",
      "\n",
      "    Latitude  Longitude  \n",
      "0  43.753259 -79.329656  \n",
      "1  43.725882 -79.315572  \n",
      "2  43.654260 -79.360636  \n",
      "3  43.718518 -79.464763  \n",
      "4  43.662301 -79.389494  \n",
      "(103, 5)\n"
     ]
    }
   ],
   "source": [
    "print(final_df.head())\n",
    "print(final_df.shape)"
   ]
  },
  {
   "cell_type": "markdown",
   "metadata": {},
   "source": [
    "Looks good!!"
   ]
  },
  {
   "cell_type": "markdown",
   "metadata": {},
   "source": [
    "# Assignment PART III"
   ]
  },
  {
   "cell_type": "markdown",
   "metadata": {},
   "source": [
    "Use geopy library to get the latitude and longitude values of Toronto:"
   ]
  },
  {
   "cell_type": "code",
   "execution_count": 16,
   "metadata": {
    "ExecuteTime": {
     "end_time": "2020-07-27T12:35:58.540678Z",
     "start_time": "2020-07-27T12:35:58.464527Z"
    }
   },
   "outputs": [],
   "source": [
    "from geopy.geocoders import Nominatim # convert an address into latitude and longitude values\n"
   ]
  },
  {
   "cell_type": "code",
   "execution_count": 17,
   "metadata": {
    "ExecuteTime": {
     "end_time": "2020-07-27T12:35:58.639429Z",
     "start_time": "2020-07-27T12:35:58.542044Z"
    }
   },
   "outputs": [
    {
     "name": "stdout",
     "output_type": "stream",
     "text": [
      "The geograpical coordinate of Toronto are 43.6534817, -79.3839347.\n"
     ]
    }
   ],
   "source": [
    "address = 'Toronto, Canada'\n",
    "\n",
    "geolocator = Nominatim(user_agent=\"toronto_explorer\")\n",
    "location = geolocator.geocode(address)\n",
    "latitude = location.latitude\n",
    "longitude = location.longitude\n",
    "print('The geograpical coordinate of Toronto are {}, {}.'.format(latitude, longitude))"
   ]
  },
  {
   "cell_type": "markdown",
   "metadata": {},
   "source": [
    "Create a map of New York with neighborhoods superimposed on top:"
   ]
  },
  {
   "cell_type": "code",
   "execution_count": 18,
   "metadata": {
    "ExecuteTime": {
     "end_time": "2020-07-27T12:35:58.946039Z",
     "start_time": "2020-07-27T12:35:58.640899Z"
    }
   },
   "outputs": [
    {
     "data": {
      "text/html": [
       "<div style=\"width:100%;\"><div style=\"position:relative;width:100%;height:0;padding-bottom:60%;\"><span style=\"color:#565656\">Make this Notebook Trusted to load map: File -> Trust Notebook</span><iframe src=\"about:blank\" style=\"position:absolute;width:100%;height:100%;left:0;top:0;border:none !important;\" data-html=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 onload=\"this.contentDocument.open();this.contentDocument.write(atob(this.getAttribute('data-html')));this.contentDocument.close();\" allowfullscreen webkitallowfullscreen mozallowfullscreen></iframe></div></div>"
      ],
      "text/plain": [
       "<folium.folium.Map at 0x7fd6e094e820>"
      ]
     },
     "execution_count": 18,
     "metadata": {},
     "output_type": "execute_result"
    }
   ],
   "source": [
    "import folium\n",
    "\n",
    "# create map of Toronto using latitude and longitude values\n",
    "map_toronto = folium.Map(location=[latitude, longitude], zoom_start=11)\n",
    "\n",
    "# add markers to map\n",
    "for lat, lng, borough, neighborhood in zip(final_df['Latitude'], final_df['Longitude'], final_df['Borough'], final_df['Neighborhood']):\n",
    "    label = '{}, {}'.format(neighborhood, borough)\n",
    "    label = folium.Popup(label, parse_html=True)\n",
    "    folium.CircleMarker(\n",
    "        [lat, lng],\n",
    "        radius=5,\n",
    "        popup=label,\n",
    "        color='blue',\n",
    "        fill=True,\n",
    "        fill_color='#3186cc',\n",
    "        fill_opacity=0.7,\n",
    "        parse_html=False).add_to(map_toronto)  \n",
    "    \n",
    "map_toronto"
   ]
  },
  {
   "cell_type": "code",
   "execution_count": 19,
   "metadata": {
    "ExecuteTime": {
     "end_time": "2020-07-27T12:35:58.956086Z",
     "start_time": "2020-07-27T12:35:58.946952Z"
    }
   },
   "outputs": [],
   "source": [
    "# @hidden_cell\n",
    "CLIENT_ID = 'B4VGNB4EAPO2VA2GPPBPARNJOGW4LE1SAV4YNH4G4KAR0IFG' # your Foursquare ID\n",
    "CLIENT_SECRET = 'FG5GCAFKU3E3MSSG25QEU4YNVSRYNPZDMXQFEIJZBNZ52S50' # your Foursquare Secret\n",
    "VERSION = '20180605' # Foursquare API version"
   ]
  },
  {
   "cell_type": "markdown",
   "metadata": {},
   "source": [
    "Let's create a function to get venues from all the neighborhoods in Toronto"
   ]
  },
  {
   "cell_type": "code",
   "execution_count": 20,
   "metadata": {
    "ExecuteTime": {
     "end_time": "2020-07-27T12:35:58.964311Z",
     "start_time": "2020-07-27T12:35:58.958561Z"
    }
   },
   "outputs": [],
   "source": [
    "import requests\n",
    "def getNearbyVenues(names, latitudes, longitudes, radius=500):\n",
    "    \n",
    "    venues_list=[]\n",
    "    for name, lat, lng in zip(names, latitudes, longitudes):\n",
    "        print(name)\n",
    "            \n",
    "        # create the API request URL\n",
    "        url = 'https://api.foursquare.com/v2/venues/explore?&client_id={}&client_secret={}&v={}&ll={},{}&radius={}&limit={}'.format(\n",
    "            CLIENT_ID, \n",
    "            CLIENT_SECRET, \n",
    "            VERSION, \n",
    "            lat, \n",
    "            lng, \n",
    "            radius, \n",
    "            LIMIT)\n",
    "            \n",
    "        # make the GET request\n",
    "        results = requests.get(url).json()[\"response\"]['groups'][0]['items']\n",
    "        \n",
    "        # return only relevant information for each nearby venue\n",
    "        venues_list.append([(\n",
    "            name, \n",
    "            lat, \n",
    "            lng, \n",
    "            v['venue']['name'], \n",
    "            v['venue']['location']['lat'], \n",
    "            v['venue']['location']['lng'],  \n",
    "            v['venue']['categories'][0]['name']) for v in results])\n",
    "\n",
    "    nearby_venues = pd.DataFrame([item for venue_list in venues_list for item in venue_list])\n",
    "    nearby_venues.columns = ['Neighborhood', \n",
    "                  'Neighborhood Latitude', \n",
    "                  'Neighborhood Longitude', \n",
    "                  'Venue', \n",
    "                  'Venue Latitude', \n",
    "                  'Venue Longitude', \n",
    "                  'Venue Category']\n",
    "    \n",
    "    return(nearby_venues)"
   ]
  },
  {
   "cell_type": "markdown",
   "metadata": {},
   "source": [
    "Now we write the code to run the above function on each neighborhood and create a new dataframe called *toronto_venues*."
   ]
  },
  {
   "cell_type": "code",
   "execution_count": 21,
   "metadata": {
    "ExecuteTime": {
     "end_time": "2020-07-27T12:36:38.833418Z",
     "start_time": "2020-07-27T12:35:58.966393Z"
    }
   },
   "outputs": [
    {
     "name": "stdout",
     "output_type": "stream",
     "text": [
      "Parkwoods\n",
      "Victoria Village\n",
      "Regent Park, Harbourfront\n",
      "Lawrence Manor, Lawrence Heights\n",
      "Queen's Park, Ontario Provincial Government\n",
      "Islington Avenue, Humber Valley Village\n",
      "Malvern, Rouge\n",
      "Don Mills\n",
      "Parkview Hill, Woodbine Gardens\n",
      "Garden District, Ryerson\n",
      "Glencairn\n",
      "West Deane Park, Princess Gardens, Martin Grove, Islington, Cloverdale\n",
      "Rouge Hill, Port Union, Highland Creek\n",
      "Don Mills\n",
      "Woodbine Heights\n",
      "St. James Town\n",
      "Humewood-Cedarvale\n",
      "Eringate, Bloordale Gardens, Old Burnhamthorpe, Markland Wood\n",
      "Guildwood, Morningside, West Hill\n",
      "The Beaches\n",
      "Berczy Park\n",
      "Caledonia-Fairbanks\n",
      "Woburn\n",
      "Leaside\n",
      "Central Bay Street\n",
      "Christie\n",
      "Cedarbrae\n",
      "Hillcrest Village\n",
      "Bathurst Manor, Wilson Heights, Downsview North\n",
      "Thorncliffe Park\n",
      "Richmond, Adelaide, King\n",
      "Dufferin, Dovercourt Village\n",
      "Scarborough Village\n",
      "Fairview, Henry Farm, Oriole\n",
      "Northwood Park, York University\n",
      "East Toronto, Broadview North (Old East York)\n",
      "Harbourfront East, Union Station, Toronto Islands\n",
      "Little Portugal, Trinity\n",
      "Kennedy Park, Ionview, East Birchmount Park\n",
      "Bayview Village\n",
      "Downsview\n",
      "The Danforth West, Riverdale\n",
      "Toronto Dominion Centre, Design Exchange\n",
      "Brockton, Parkdale Village, Exhibition Place\n",
      "Golden Mile, Clairlea, Oakridge\n",
      "York Mills, Silver Hills\n",
      "Downsview\n",
      "India Bazaar, The Beaches West\n",
      "Commerce Court, Victoria Hotel\n",
      "North Park, Maple Leaf Park, Upwood Park\n",
      "Humber Summit\n",
      "Cliffside, Cliffcrest, Scarborough Village West\n",
      "Willowdale, Newtonbrook\n",
      "Downsview\n",
      "Studio District\n",
      "Bedford Park, Lawrence Manor East\n",
      "Del Ray, Mount Dennis, Keelsdale and Silverthorn\n",
      "Humberlea, Emery\n",
      "Birch Cliff, Cliffside West\n",
      "Willowdale, Willowdale East\n",
      "Downsview\n",
      "Lawrence Park\n",
      "Roselawn\n",
      "Runnymede, The Junction North\n",
      "Weston\n",
      "Dorset Park, Wexford Heights, Scarborough Town Centre\n",
      "York Mills West\n",
      "Davisville North\n",
      "Forest Hill North & West, Forest Hill Road Park\n",
      "High Park, The Junction South\n",
      "Westmount\n",
      "Wexford, Maryvale\n",
      "Willowdale, Willowdale West\n",
      "North Toronto West, Lawrence Park\n",
      "The Annex, North Midtown, Yorkville\n",
      "Parkdale, Roncesvalles\n",
      "Canada Post Gateway Processing Centre\n",
      "Kingsview Village, St. Phillips, Martin Grove Gardens, Richview Gardens\n",
      "Agincourt\n",
      "Davisville\n",
      "University of Toronto, Harbord\n",
      "Runnymede, Swansea\n",
      "Clarks Corners, Tam O'Shanter, Sullivan\n",
      "Moore Park, Summerhill East\n",
      "Kensington Market, Chinatown, Grange Park\n",
      "Milliken, Agincourt North, Steeles East, L'Amoreaux East\n",
      "Summerhill West, Rathnelly, South Hill, Forest Hill SE, Deer Park\n",
      "CN Tower, King and Spadina, Railway Lands, Harbourfront West, Bathurst Quay, South Niagara, Island airport\n",
      "New Toronto, Mimico South, Humber Bay Shores\n",
      "South Steeles, Silverstone, Humbergate, Jamestown, Mount Olive, Beaumond Heights, Thistletown, Albion Gardens\n",
      "Steeles West, L'Amoreaux West\n",
      "Rosedale\n",
      "Stn A PO Boxes\n",
      "Alderwood, Long Branch\n",
      "Northwest, West Humber - Clairville\n",
      "Upper Rouge\n",
      "St. James Town, Cabbagetown\n",
      "First Canadian Place, Underground city\n",
      "The Kingsway, Montgomery Road, Old Mill North\n",
      "Church and Wellesley\n",
      "Business reply mail Processing Centre, South Central Letter Processing Plant Toronto\n",
      "Old Mill South, King's Mill Park, Sunnylea, Humber Bay, Mimico NE, The Queensway East, Royal York South East, Kingsway Park South East\n",
      "Mimico NW, The Queensway West, South of Bloor, Kingsway Park South West, Royal York South West\n"
     ]
    }
   ],
   "source": [
    "# We get the top 100 venues that are in each neighborhood within a radius of 500 meters\n",
    "\n",
    "LIMIT = 100 # limit of number of venues returned by Foursquare API\n",
    "toronto_venues = getNearbyVenues(names=final_df['Neighborhood'],\n",
    "                                   latitudes=final_df['Latitude'],\n",
    "                                   longitudes=final_df['Longitude']\n",
    "                                  )"
   ]
  },
  {
   "cell_type": "markdown",
   "metadata": {},
   "source": [
    "Let's encode the venue categories:"
   ]
  },
  {
   "cell_type": "code",
   "execution_count": 22,
   "metadata": {
    "ExecuteTime": {
     "end_time": "2020-07-27T12:36:38.851343Z",
     "start_time": "2020-07-27T12:36:38.840099Z"
    }
   },
   "outputs": [],
   "source": [
    "# one hot encoding\n",
    "toronto_onehot = pd.get_dummies(toronto_venues[['Venue Category']], prefix=\"\", prefix_sep=\"\")\n",
    "# add neighborhood column back to dataframe\n",
    "toronto_onehot['Neighborhood'] = toronto_venues['Neighborhood'] "
   ]
  },
  {
   "cell_type": "markdown",
   "metadata": {},
   "source": [
    "Let's write a function to sort the venues in descending order:"
   ]
  },
  {
   "cell_type": "code",
   "execution_count": 23,
   "metadata": {
    "ExecuteTime": {
     "end_time": "2020-07-27T12:36:38.860616Z",
     "start_time": "2020-07-27T12:36:38.853396Z"
    }
   },
   "outputs": [],
   "source": [
    "def return_most_common_venues(row, num_top_venues):\n",
    "    row_categories = row.iloc[1:]\n",
    "    row_categories_sorted = row_categories.sort_values(ascending=False)\n",
    "    \n",
    "    return row_categories_sorted.index.values[0:num_top_venues]"
   ]
  },
  {
   "cell_type": "markdown",
   "metadata": {},
   "source": [
    "Now let's create the new dataframe and display the top 10 venues for each neighborhood:"
   ]
  },
  {
   "cell_type": "code",
   "execution_count": 24,
   "metadata": {
    "ExecuteTime": {
     "end_time": "2020-07-27T12:36:38.943323Z",
     "start_time": "2020-07-27T12:36:38.861984Z"
    }
   },
   "outputs": [],
   "source": [
    "import numpy as np\n",
    "\n",
    "toronto_grouped = toronto_onehot.groupby('Neighborhood').mean().reset_index()\n",
    "\n",
    "num_top_venues = 10\n",
    "\n",
    "indicators = ['st', 'nd', 'rd']\n",
    "\n",
    "# create columns according to number of top venues\n",
    "columns = ['Neighborhood']\n",
    "for ind in np.arange(num_top_venues):\n",
    "    try:\n",
    "        columns.append('{}{} Most Common Venue'.format(ind+1, indicators[ind]))\n",
    "    except:\n",
    "        columns.append('{}th Most Common Venue'.format(ind+1))\n",
    "\n",
    "# create a new dataframe\n",
    "neighborhoods_venues_sorted = pd.DataFrame(columns=columns)\n",
    "neighborhoods_venues_sorted['Neighborhood'] = toronto_grouped['Neighborhood']\n",
    "\n",
    "for ind in np.arange(toronto_grouped.shape[0]):\n",
    "    neighborhoods_venues_sorted.iloc[ind, 1:] = return_most_common_venues(toronto_grouped.iloc[ind, :], num_top_venues)"
   ]
  },
  {
   "cell_type": "markdown",
   "metadata": {},
   "source": [
    "Now run *k*-means to cluster the neighborhoods into 3 clusters:"
   ]
  },
  {
   "cell_type": "code",
   "execution_count": 25,
   "metadata": {
    "ExecuteTime": {
     "end_time": "2020-07-27T12:36:39.282393Z",
     "start_time": "2020-07-27T12:36:38.944426Z"
    }
   },
   "outputs": [
    {
     "name": "stdout",
     "output_type": "stream",
     "text": [
      "(95, 266)\n"
     ]
    },
    {
     "data": {
      "text/plain": [
       "95"
      ]
     },
     "execution_count": 25,
     "metadata": {},
     "output_type": "execute_result"
    }
   ],
   "source": [
    "# set number of clusters\n",
    "kclusters = 5\n",
    "\n",
    "from sklearn.cluster import KMeans\n",
    "\n",
    "toronto_grouped_clustering = toronto_grouped.drop('Neighborhood', 1)\n",
    "print(toronto_grouped_clustering.shape)\n",
    "\n",
    "# run k-means clustering\n",
    "kmeans = KMeans(n_clusters=kclusters, random_state=0).fit(toronto_grouped_clustering)\n",
    "len(kmeans.labels_)"
   ]
  },
  {
   "cell_type": "code",
   "execution_count": 26,
   "metadata": {
    "ExecuteTime": {
     "end_time": "2020-07-27T12:36:39.305217Z",
     "start_time": "2020-07-27T12:36:39.284835Z"
    }
   },
   "outputs": [
    {
     "name": "stdout",
     "output_type": "stream",
     "text": [
      "  PostalCode           Borough                                 Neighborhood  \\\n",
      "0        M3A        North York                                    Parkwoods   \n",
      "1        M4A        North York                             Victoria Village   \n",
      "2        M5A  Downtown Toronto                    Regent Park, Harbourfront   \n",
      "3        M6A        North York             Lawrence Manor, Lawrence Heights   \n",
      "4        M7A  Downtown Toronto  Queen's Park, Ontario Provincial Government   \n",
      "\n",
      "    Latitude  Longitude  Cluster Labels 1st Most Common Venue  \\\n",
      "0  43.753259 -79.329656               2                  Park   \n",
      "1  43.725882 -79.315572               0     French Restaurant   \n",
      "2  43.654260 -79.360636               1           Coffee Shop   \n",
      "3  43.718518 -79.464763               1        Clothing Store   \n",
      "4  43.662301 -79.389494               1           Coffee Shop   \n",
      "\n",
      "  2nd Most Common Venue 3rd Most Common Venue   4th Most Common Venue  \\\n",
      "0     Food & Drink Shop           Yoga Studio                 Dog Run   \n",
      "1           Pizza Place           Coffee Shop   Portuguese Restaurant   \n",
      "2                Bakery                   Pub                    Park   \n",
      "3     Accessories Store   Arts & Crafts Store  Furniture / Home Store   \n",
      "4                 Diner           Yoga Studio          Sandwich Place   \n",
      "\n",
      "  5th Most Common Venue 6th Most Common Venue 7th Most Common Venue  \\\n",
      "0          Dessert Shop    Dim Sum Restaurant                 Diner   \n",
      "1          Hockey Arena   Distribution Center         Deli / Bodega   \n",
      "2               Theater        Breakfast Spot                  Café   \n",
      "3           Event Space    Miscellaneous Shop           Coffee Shop   \n",
      "4            Restaurant                  Park    Mexican Restaurant   \n",
      "\n",
      "  8th Most Common Venue 9th Most Common Venue 10th Most Common Venue  \n",
      "0        Discount Store   Distribution Center       Doner Restaurant  \n",
      "1      Department Store          Dessert Shop     Dim Sum Restaurant  \n",
      "2           Yoga Studio            Shoe Store             Restaurant  \n",
      "3              Boutique         Women's Store  Vietnamese Restaurant  \n",
      "4            Hobby Shop   Fried Chicken Joint    Distribution Center  \n"
     ]
    }
   ],
   "source": [
    "# add clustering labels\n",
    "neighborhoods_venues_sorted.insert(0, 'Cluster Labels', kmeans.labels_)\n",
    "toronto_merged = final_df\n",
    "#toronto_merged.head()\n",
    "# merge toronto_grouped with final_df to add latitude/longitude for each neighborhood\n",
    "toronto_merged = toronto_merged.join(neighborhoods_venues_sorted.set_index('Neighborhood'), on='Neighborhood')\n",
    "toronto_merged.dropna(inplace=True)\n",
    "toronto_merged = toronto_merged.astype({'Cluster Labels':'int32'})\n",
    "\n",
    "print(toronto_merged.head())"
   ]
  },
  {
   "cell_type": "markdown",
   "metadata": {},
   "source": [
    "Finally, let's visualize the resulting clusters"
   ]
  },
  {
   "cell_type": "code",
   "execution_count": 27,
   "metadata": {
    "ExecuteTime": {
     "end_time": "2020-07-27T12:36:39.462840Z",
     "start_time": "2020-07-27T12:36:39.306775Z"
    }
   },
   "outputs": [
    {
     "data": {
      "text/html": [
       "<div style=\"width:100%;\"><div style=\"position:relative;width:100%;height:0;padding-bottom:60%;\"><span style=\"color:#565656\">Make this Notebook Trusted to load map: File -> Trust Notebook</span><iframe src=\"about:blank\" style=\"position:absolute;width:100%;height:100%;left:0;top:0;border:none !important;\" data-html=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 onload=\"this.contentDocument.open();this.contentDocument.write(atob(this.getAttribute('data-html')));this.contentDocument.close();\" allowfullscreen webkitallowfullscreen mozallowfullscreen></iframe></div></div>"
      ],
      "text/plain": [
       "<folium.folium.Map at 0x7fd696360d90>"
      ]
     },
     "execution_count": 27,
     "metadata": {},
     "output_type": "execute_result"
    }
   ],
   "source": [
    "import matplotlib.cm as cm\n",
    "import matplotlib.colors as colors\n",
    "\n",
    "# create map\n",
    "map_clusters = folium.Map(location=[latitude, longitude], zoom_start=11)\n",
    "\n",
    "# set color scheme for the clusters\n",
    "x = np.arange(kclusters)\n",
    "ys = [i + x + (i*x)**2 for i in range(kclusters)]\n",
    "colors_array = cm.rainbow(np.linspace(0, 1, len(ys)))\n",
    "rainbow = [colors.rgb2hex(i) for i in colors_array]\n",
    "\n",
    "# add markers to the map\n",
    "markers_colors = []\n",
    "for lat, lon, poi, cluster in zip(toronto_merged['Latitude'], toronto_merged['Longitude'], toronto_merged['Neighborhood'], toronto_merged['Cluster Labels']):\n",
    "    label = folium.Popup(str(poi) + ' Cluster ' + str(cluster), parse_html=True)\n",
    "    folium.CircleMarker(\n",
    "        [lat, lon],\n",
    "        radius=5,\n",
    "        popup=label,\n",
    "        color=rainbow[cluster-1],\n",
    "        fill=True,\n",
    "        fill_color=rainbow[cluster-1],\n",
    "        fill_opacity=0.7).add_to(map_clusters)\n",
    "       \n",
    "map_clusters"
   ]
  },
  {
   "cell_type": "markdown",
   "metadata": {},
   "source": [
    "Last step: examine each cluster and determine the discriminating venue categories that distinguish each cluster. Based on the defining categories, assign a name to each cluster."
   ]
  },
  {
   "cell_type": "code",
   "execution_count": 28,
   "metadata": {
    "ExecuteTime": {
     "end_time": "2020-07-27T12:36:39.479467Z",
     "start_time": "2020-07-27T12:36:39.464152Z"
    }
   },
   "outputs": [
    {
     "data": {
      "text/html": [
       "<div>\n",
       "<style scoped>\n",
       "    .dataframe tbody tr th:only-of-type {\n",
       "        vertical-align: middle;\n",
       "    }\n",
       "\n",
       "    .dataframe tbody tr th {\n",
       "        vertical-align: top;\n",
       "    }\n",
       "\n",
       "    .dataframe thead th {\n",
       "        text-align: right;\n",
       "    }\n",
       "</style>\n",
       "<table border=\"1\" class=\"dataframe\">\n",
       "  <thead>\n",
       "    <tr style=\"text-align: right;\">\n",
       "      <th></th>\n",
       "      <th>Neighborhood</th>\n",
       "      <th>Cluster Labels</th>\n",
       "      <th>1st Most Common Venue</th>\n",
       "      <th>2nd Most Common Venue</th>\n",
       "      <th>3rd Most Common Venue</th>\n",
       "      <th>4th Most Common Venue</th>\n",
       "      <th>5th Most Common Venue</th>\n",
       "      <th>6th Most Common Venue</th>\n",
       "      <th>7th Most Common Venue</th>\n",
       "      <th>8th Most Common Venue</th>\n",
       "      <th>9th Most Common Venue</th>\n",
       "      <th>10th Most Common Venue</th>\n",
       "    </tr>\n",
       "  </thead>\n",
       "  <tbody>\n",
       "    <tr>\n",
       "      <th>1</th>\n",
       "      <td>Victoria Village</td>\n",
       "      <td>0</td>\n",
       "      <td>French Restaurant</td>\n",
       "      <td>Pizza Place</td>\n",
       "      <td>Coffee Shop</td>\n",
       "      <td>Portuguese Restaurant</td>\n",
       "      <td>Hockey Arena</td>\n",
       "      <td>Distribution Center</td>\n",
       "      <td>Deli / Bodega</td>\n",
       "      <td>Department Store</td>\n",
       "      <td>Dessert Shop</td>\n",
       "      <td>Dim Sum Restaurant</td>\n",
       "    </tr>\n",
       "    <tr>\n",
       "      <th>6</th>\n",
       "      <td>Malvern, Rouge</td>\n",
       "      <td>0</td>\n",
       "      <td>Print Shop</td>\n",
       "      <td>Fast Food Restaurant</td>\n",
       "      <td>Yoga Studio</td>\n",
       "      <td>Dessert Shop</td>\n",
       "      <td>Dim Sum Restaurant</td>\n",
       "      <td>Diner</td>\n",
       "      <td>Discount Store</td>\n",
       "      <td>Distribution Center</td>\n",
       "      <td>Dog Run</td>\n",
       "      <td>Doner Restaurant</td>\n",
       "    </tr>\n",
       "    <tr>\n",
       "      <th>8</th>\n",
       "      <td>Parkview Hill, Woodbine Gardens</td>\n",
       "      <td>0</td>\n",
       "      <td>Pizza Place</td>\n",
       "      <td>Pharmacy</td>\n",
       "      <td>Gastropub</td>\n",
       "      <td>Bank</td>\n",
       "      <td>Intersection</td>\n",
       "      <td>Athletics &amp; Sports</td>\n",
       "      <td>Café</td>\n",
       "      <td>Breakfast Spot</td>\n",
       "      <td>Gym / Fitness Center</td>\n",
       "      <td>Pet Store</td>\n",
       "    </tr>\n",
       "    <tr>\n",
       "      <th>10</th>\n",
       "      <td>Glencairn</td>\n",
       "      <td>0</td>\n",
       "      <td>Pizza Place</td>\n",
       "      <td>Bakery</td>\n",
       "      <td>Japanese Restaurant</td>\n",
       "      <td>Pub</td>\n",
       "      <td>Yoga Studio</td>\n",
       "      <td>Distribution Center</td>\n",
       "      <td>Dim Sum Restaurant</td>\n",
       "      <td>Diner</td>\n",
       "      <td>Discount Store</td>\n",
       "      <td>Dog Run</td>\n",
       "    </tr>\n",
       "    <tr>\n",
       "      <th>17</th>\n",
       "      <td>Eringate, Bloordale Gardens, Old Burnhamthorpe...</td>\n",
       "      <td>0</td>\n",
       "      <td>Pharmacy</td>\n",
       "      <td>Beer Store</td>\n",
       "      <td>Pet Store</td>\n",
       "      <td>Pizza Place</td>\n",
       "      <td>Coffee Shop</td>\n",
       "      <td>Convenience Store</td>\n",
       "      <td>Café</td>\n",
       "      <td>Shopping Plaza</td>\n",
       "      <td>Liquor Store</td>\n",
       "      <td>Gas Station</td>\n",
       "    </tr>\n",
       "    <tr>\n",
       "      <th>29</th>\n",
       "      <td>Thorncliffe Park</td>\n",
       "      <td>0</td>\n",
       "      <td>Sandwich Place</td>\n",
       "      <td>Indian Restaurant</td>\n",
       "      <td>Gym / Fitness Center</td>\n",
       "      <td>Restaurant</td>\n",
       "      <td>Pizza Place</td>\n",
       "      <td>Pharmacy</td>\n",
       "      <td>Park</td>\n",
       "      <td>Liquor Store</td>\n",
       "      <td>Yoga Studio</td>\n",
       "      <td>Supermarket</td>\n",
       "    </tr>\n",
       "    <tr>\n",
       "      <th>51</th>\n",
       "      <td>Cliffside, Cliffcrest, Scarborough Village West</td>\n",
       "      <td>0</td>\n",
       "      <td>American Restaurant</td>\n",
       "      <td>Motel</td>\n",
       "      <td>Skating Rink</td>\n",
       "      <td>Dog Run</td>\n",
       "      <td>Dessert Shop</td>\n",
       "      <td>Dim Sum Restaurant</td>\n",
       "      <td>Diner</td>\n",
       "      <td>Discount Store</td>\n",
       "      <td>Distribution Center</td>\n",
       "      <td>Yoga Studio</td>\n",
       "    </tr>\n",
       "    <tr>\n",
       "      <th>55</th>\n",
       "      <td>Bedford Park, Lawrence Manor East</td>\n",
       "      <td>0</td>\n",
       "      <td>Restaurant</td>\n",
       "      <td>Sandwich Place</td>\n",
       "      <td>Coffee Shop</td>\n",
       "      <td>Thai Restaurant</td>\n",
       "      <td>Italian Restaurant</td>\n",
       "      <td>Indian Restaurant</td>\n",
       "      <td>Fast Food Restaurant</td>\n",
       "      <td>Japanese Restaurant</td>\n",
       "      <td>Liquor Store</td>\n",
       "      <td>Juice Bar</td>\n",
       "    </tr>\n",
       "    <tr>\n",
       "      <th>56</th>\n",
       "      <td>Del Ray, Mount Dennis, Keelsdale and Silverthorn</td>\n",
       "      <td>0</td>\n",
       "      <td>Sandwich Place</td>\n",
       "      <td>Coffee Shop</td>\n",
       "      <td>Discount Store</td>\n",
       "      <td>Bar</td>\n",
       "      <td>Yoga Studio</td>\n",
       "      <td>Dog Run</td>\n",
       "      <td>Dim Sum Restaurant</td>\n",
       "      <td>Diner</td>\n",
       "      <td>Distribution Center</td>\n",
       "      <td>Doner Restaurant</td>\n",
       "    </tr>\n",
       "    <tr>\n",
       "      <th>70</th>\n",
       "      <td>Westmount</td>\n",
       "      <td>0</td>\n",
       "      <td>Pizza Place</td>\n",
       "      <td>Chinese Restaurant</td>\n",
       "      <td>Intersection</td>\n",
       "      <td>Coffee Shop</td>\n",
       "      <td>Sandwich Place</td>\n",
       "      <td>Middle Eastern Restaurant</td>\n",
       "      <td>Discount Store</td>\n",
       "      <td>Yoga Studio</td>\n",
       "      <td>Dim Sum Restaurant</td>\n",
       "      <td>Diner</td>\n",
       "    </tr>\n",
       "    <tr>\n",
       "      <th>72</th>\n",
       "      <td>Willowdale, Willowdale West</td>\n",
       "      <td>0</td>\n",
       "      <td>Pharmacy</td>\n",
       "      <td>Grocery Store</td>\n",
       "      <td>Pizza Place</td>\n",
       "      <td>Coffee Shop</td>\n",
       "      <td>Bank</td>\n",
       "      <td>Butcher</td>\n",
       "      <td>Distribution Center</td>\n",
       "      <td>Dessert Shop</td>\n",
       "      <td>Dim Sum Restaurant</td>\n",
       "      <td>Diner</td>\n",
       "    </tr>\n",
       "    <tr>\n",
       "      <th>74</th>\n",
       "      <td>The Annex, North Midtown, Yorkville</td>\n",
       "      <td>0</td>\n",
       "      <td>Sandwich Place</td>\n",
       "      <td>Café</td>\n",
       "      <td>Coffee Shop</td>\n",
       "      <td>BBQ Joint</td>\n",
       "      <td>History Museum</td>\n",
       "      <td>Donut Shop</td>\n",
       "      <td>Burger Joint</td>\n",
       "      <td>Middle Eastern Restaurant</td>\n",
       "      <td>Indian Restaurant</td>\n",
       "      <td>Pub</td>\n",
       "    </tr>\n",
       "    <tr>\n",
       "      <th>79</th>\n",
       "      <td>Davisville</td>\n",
       "      <td>0</td>\n",
       "      <td>Dessert Shop</td>\n",
       "      <td>Sandwich Place</td>\n",
       "      <td>Pizza Place</td>\n",
       "      <td>Gym</td>\n",
       "      <td>Café</td>\n",
       "      <td>Italian Restaurant</td>\n",
       "      <td>Coffee Shop</td>\n",
       "      <td>Sushi Restaurant</td>\n",
       "      <td>Brewery</td>\n",
       "      <td>Restaurant</td>\n",
       "    </tr>\n",
       "    <tr>\n",
       "      <th>82</th>\n",
       "      <td>Clarks Corners, Tam O'Shanter, Sullivan</td>\n",
       "      <td>0</td>\n",
       "      <td>Pizza Place</td>\n",
       "      <td>Bank</td>\n",
       "      <td>Thai Restaurant</td>\n",
       "      <td>Intersection</td>\n",
       "      <td>Pharmacy</td>\n",
       "      <td>Italian Restaurant</td>\n",
       "      <td>Noodle House</td>\n",
       "      <td>Fast Food Restaurant</td>\n",
       "      <td>Gas Station</td>\n",
       "      <td>Fried Chicken Joint</td>\n",
       "    </tr>\n",
       "    <tr>\n",
       "      <th>86</th>\n",
       "      <td>Summerhill West, Rathnelly, South Hill, Forest...</td>\n",
       "      <td>0</td>\n",
       "      <td>Pub</td>\n",
       "      <td>Coffee Shop</td>\n",
       "      <td>American Restaurant</td>\n",
       "      <td>Bagel Shop</td>\n",
       "      <td>Sushi Restaurant</td>\n",
       "      <td>Bank</td>\n",
       "      <td>Light Rail Station</td>\n",
       "      <td>Restaurant</td>\n",
       "      <td>Sports Bar</td>\n",
       "      <td>Fried Chicken Joint</td>\n",
       "    </tr>\n",
       "    <tr>\n",
       "      <th>89</th>\n",
       "      <td>South Steeles, Silverstone, Humbergate, Jamest...</td>\n",
       "      <td>0</td>\n",
       "      <td>Grocery Store</td>\n",
       "      <td>Pizza Place</td>\n",
       "      <td>Beer Store</td>\n",
       "      <td>Fried Chicken Joint</td>\n",
       "      <td>Fast Food Restaurant</td>\n",
       "      <td>Liquor Store</td>\n",
       "      <td>Discount Store</td>\n",
       "      <td>Sandwich Place</td>\n",
       "      <td>Pharmacy</td>\n",
       "      <td>American Restaurant</td>\n",
       "    </tr>\n",
       "    <tr>\n",
       "      <th>90</th>\n",
       "      <td>Steeles West, L'Amoreaux West</td>\n",
       "      <td>0</td>\n",
       "      <td>Fast Food Restaurant</td>\n",
       "      <td>Chinese Restaurant</td>\n",
       "      <td>Pharmacy</td>\n",
       "      <td>Bank</td>\n",
       "      <td>Electronics Store</td>\n",
       "      <td>Nail Salon</td>\n",
       "      <td>Pizza Place</td>\n",
       "      <td>Coffee Shop</td>\n",
       "      <td>Camera Store</td>\n",
       "      <td>Sandwich Place</td>\n",
       "    </tr>\n",
       "    <tr>\n",
       "      <th>93</th>\n",
       "      <td>Alderwood, Long Branch</td>\n",
       "      <td>0</td>\n",
       "      <td>Pizza Place</td>\n",
       "      <td>Gym</td>\n",
       "      <td>Athletics &amp; Sports</td>\n",
       "      <td>Pub</td>\n",
       "      <td>Sandwich Place</td>\n",
       "      <td>Skating Rink</td>\n",
       "      <td>Coffee Shop</td>\n",
       "      <td>Airport Service</td>\n",
       "      <td>Airport Terminal</td>\n",
       "      <td>Ethiopian Restaurant</td>\n",
       "    </tr>\n",
       "  </tbody>\n",
       "</table>\n",
       "</div>"
      ],
      "text/plain": [
       "                                         Neighborhood  Cluster Labels  \\\n",
       "1                                    Victoria Village               0   \n",
       "6                                      Malvern, Rouge               0   \n",
       "8                     Parkview Hill, Woodbine Gardens               0   \n",
       "10                                          Glencairn               0   \n",
       "17  Eringate, Bloordale Gardens, Old Burnhamthorpe...               0   \n",
       "29                                   Thorncliffe Park               0   \n",
       "51    Cliffside, Cliffcrest, Scarborough Village West               0   \n",
       "55                  Bedford Park, Lawrence Manor East               0   \n",
       "56   Del Ray, Mount Dennis, Keelsdale and Silverthorn               0   \n",
       "70                                          Westmount               0   \n",
       "72                        Willowdale, Willowdale West               0   \n",
       "74                The Annex, North Midtown, Yorkville               0   \n",
       "79                                         Davisville               0   \n",
       "82            Clarks Corners, Tam O'Shanter, Sullivan               0   \n",
       "86  Summerhill West, Rathnelly, South Hill, Forest...               0   \n",
       "89  South Steeles, Silverstone, Humbergate, Jamest...               0   \n",
       "90                      Steeles West, L'Amoreaux West               0   \n",
       "93                             Alderwood, Long Branch               0   \n",
       "\n",
       "   1st Most Common Venue 2nd Most Common Venue 3rd Most Common Venue  \\\n",
       "1      French Restaurant           Pizza Place           Coffee Shop   \n",
       "6             Print Shop  Fast Food Restaurant           Yoga Studio   \n",
       "8            Pizza Place              Pharmacy             Gastropub   \n",
       "10           Pizza Place                Bakery   Japanese Restaurant   \n",
       "17              Pharmacy            Beer Store             Pet Store   \n",
       "29        Sandwich Place     Indian Restaurant  Gym / Fitness Center   \n",
       "51   American Restaurant                 Motel          Skating Rink   \n",
       "55            Restaurant        Sandwich Place           Coffee Shop   \n",
       "56        Sandwich Place           Coffee Shop        Discount Store   \n",
       "70           Pizza Place    Chinese Restaurant          Intersection   \n",
       "72              Pharmacy         Grocery Store           Pizza Place   \n",
       "74        Sandwich Place                  Café           Coffee Shop   \n",
       "79          Dessert Shop        Sandwich Place           Pizza Place   \n",
       "82           Pizza Place                  Bank       Thai Restaurant   \n",
       "86                   Pub           Coffee Shop   American Restaurant   \n",
       "89         Grocery Store           Pizza Place            Beer Store   \n",
       "90  Fast Food Restaurant    Chinese Restaurant              Pharmacy   \n",
       "93           Pizza Place                   Gym    Athletics & Sports   \n",
       "\n",
       "    4th Most Common Venue 5th Most Common Venue      6th Most Common Venue  \\\n",
       "1   Portuguese Restaurant          Hockey Arena        Distribution Center   \n",
       "6            Dessert Shop    Dim Sum Restaurant                      Diner   \n",
       "8                    Bank          Intersection         Athletics & Sports   \n",
       "10                    Pub           Yoga Studio        Distribution Center   \n",
       "17            Pizza Place           Coffee Shop          Convenience Store   \n",
       "29             Restaurant           Pizza Place                   Pharmacy   \n",
       "51                Dog Run          Dessert Shop         Dim Sum Restaurant   \n",
       "55        Thai Restaurant    Italian Restaurant          Indian Restaurant   \n",
       "56                    Bar           Yoga Studio                    Dog Run   \n",
       "70            Coffee Shop        Sandwich Place  Middle Eastern Restaurant   \n",
       "72            Coffee Shop                  Bank                    Butcher   \n",
       "74              BBQ Joint        History Museum                 Donut Shop   \n",
       "79                    Gym                  Café         Italian Restaurant   \n",
       "82           Intersection              Pharmacy         Italian Restaurant   \n",
       "86             Bagel Shop      Sushi Restaurant                       Bank   \n",
       "89    Fried Chicken Joint  Fast Food Restaurant               Liquor Store   \n",
       "90                   Bank     Electronics Store                 Nail Salon   \n",
       "93                    Pub        Sandwich Place               Skating Rink   \n",
       "\n",
       "   7th Most Common Venue      8th Most Common Venue 9th Most Common Venue  \\\n",
       "1          Deli / Bodega           Department Store          Dessert Shop   \n",
       "6         Discount Store        Distribution Center               Dog Run   \n",
       "8                   Café             Breakfast Spot  Gym / Fitness Center   \n",
       "10    Dim Sum Restaurant                      Diner        Discount Store   \n",
       "17                  Café             Shopping Plaza          Liquor Store   \n",
       "29                  Park               Liquor Store           Yoga Studio   \n",
       "51                 Diner             Discount Store   Distribution Center   \n",
       "55  Fast Food Restaurant        Japanese Restaurant          Liquor Store   \n",
       "56    Dim Sum Restaurant                      Diner   Distribution Center   \n",
       "70        Discount Store                Yoga Studio    Dim Sum Restaurant   \n",
       "72   Distribution Center               Dessert Shop    Dim Sum Restaurant   \n",
       "74          Burger Joint  Middle Eastern Restaurant     Indian Restaurant   \n",
       "79           Coffee Shop           Sushi Restaurant               Brewery   \n",
       "82          Noodle House       Fast Food Restaurant           Gas Station   \n",
       "86    Light Rail Station                 Restaurant            Sports Bar   \n",
       "89        Discount Store             Sandwich Place              Pharmacy   \n",
       "90           Pizza Place                Coffee Shop          Camera Store   \n",
       "93           Coffee Shop            Airport Service      Airport Terminal   \n",
       "\n",
       "   10th Most Common Venue  \n",
       "1      Dim Sum Restaurant  \n",
       "6        Doner Restaurant  \n",
       "8               Pet Store  \n",
       "10                Dog Run  \n",
       "17            Gas Station  \n",
       "29            Supermarket  \n",
       "51            Yoga Studio  \n",
       "55              Juice Bar  \n",
       "56       Doner Restaurant  \n",
       "70                  Diner  \n",
       "72                  Diner  \n",
       "74                    Pub  \n",
       "79             Restaurant  \n",
       "82    Fried Chicken Joint  \n",
       "86    Fried Chicken Joint  \n",
       "89    American Restaurant  \n",
       "90         Sandwich Place  \n",
       "93   Ethiopian Restaurant  "
      ]
     },
     "execution_count": 28,
     "metadata": {},
     "output_type": "execute_result"
    }
   ],
   "source": [
    "toronto_merged.loc[toronto_merged['Cluster Labels'] == 0, toronto_merged.columns[[2] + list(range(5, toronto_merged.shape[1]))]]"
   ]
  },
  {
   "cell_type": "code",
   "execution_count": 29,
   "metadata": {
    "ExecuteTime": {
     "end_time": "2020-07-27T12:36:39.496129Z",
     "start_time": "2020-07-27T12:36:39.481011Z"
    }
   },
   "outputs": [
    {
     "data": {
      "text/html": [
       "<div>\n",
       "<style scoped>\n",
       "    .dataframe tbody tr th:only-of-type {\n",
       "        vertical-align: middle;\n",
       "    }\n",
       "\n",
       "    .dataframe tbody tr th {\n",
       "        vertical-align: top;\n",
       "    }\n",
       "\n",
       "    .dataframe thead th {\n",
       "        text-align: right;\n",
       "    }\n",
       "</style>\n",
       "<table border=\"1\" class=\"dataframe\">\n",
       "  <thead>\n",
       "    <tr style=\"text-align: right;\">\n",
       "      <th></th>\n",
       "      <th>Neighborhood</th>\n",
       "      <th>Cluster Labels</th>\n",
       "      <th>1st Most Common Venue</th>\n",
       "      <th>2nd Most Common Venue</th>\n",
       "      <th>3rd Most Common Venue</th>\n",
       "      <th>4th Most Common Venue</th>\n",
       "      <th>5th Most Common Venue</th>\n",
       "      <th>6th Most Common Venue</th>\n",
       "      <th>7th Most Common Venue</th>\n",
       "      <th>8th Most Common Venue</th>\n",
       "      <th>9th Most Common Venue</th>\n",
       "      <th>10th Most Common Venue</th>\n",
       "    </tr>\n",
       "  </thead>\n",
       "  <tbody>\n",
       "    <tr>\n",
       "      <th>2</th>\n",
       "      <td>Regent Park, Harbourfront</td>\n",
       "      <td>1</td>\n",
       "      <td>Coffee Shop</td>\n",
       "      <td>Bakery</td>\n",
       "      <td>Pub</td>\n",
       "      <td>Park</td>\n",
       "      <td>Theater</td>\n",
       "      <td>Breakfast Spot</td>\n",
       "      <td>Café</td>\n",
       "      <td>Yoga Studio</td>\n",
       "      <td>Shoe Store</td>\n",
       "      <td>Restaurant</td>\n",
       "    </tr>\n",
       "    <tr>\n",
       "      <th>3</th>\n",
       "      <td>Lawrence Manor, Lawrence Heights</td>\n",
       "      <td>1</td>\n",
       "      <td>Clothing Store</td>\n",
       "      <td>Accessories Store</td>\n",
       "      <td>Arts &amp; Crafts Store</td>\n",
       "      <td>Furniture / Home Store</td>\n",
       "      <td>Event Space</td>\n",
       "      <td>Miscellaneous Shop</td>\n",
       "      <td>Coffee Shop</td>\n",
       "      <td>Boutique</td>\n",
       "      <td>Women's Store</td>\n",
       "      <td>Vietnamese Restaurant</td>\n",
       "    </tr>\n",
       "    <tr>\n",
       "      <th>4</th>\n",
       "      <td>Queen's Park, Ontario Provincial Government</td>\n",
       "      <td>1</td>\n",
       "      <td>Coffee Shop</td>\n",
       "      <td>Diner</td>\n",
       "      <td>Yoga Studio</td>\n",
       "      <td>Sandwich Place</td>\n",
       "      <td>Restaurant</td>\n",
       "      <td>Park</td>\n",
       "      <td>Mexican Restaurant</td>\n",
       "      <td>Hobby Shop</td>\n",
       "      <td>Fried Chicken Joint</td>\n",
       "      <td>Distribution Center</td>\n",
       "    </tr>\n",
       "    <tr>\n",
       "      <th>7</th>\n",
       "      <td>Don Mills</td>\n",
       "      <td>1</td>\n",
       "      <td>Gym</td>\n",
       "      <td>Japanese Restaurant</td>\n",
       "      <td>Café</td>\n",
       "      <td>Sporting Goods Shop</td>\n",
       "      <td>Coffee Shop</td>\n",
       "      <td>Beer Store</td>\n",
       "      <td>Restaurant</td>\n",
       "      <td>Supermarket</td>\n",
       "      <td>Dim Sum Restaurant</td>\n",
       "      <td>Italian Restaurant</td>\n",
       "    </tr>\n",
       "    <tr>\n",
       "      <th>9</th>\n",
       "      <td>Garden District, Ryerson</td>\n",
       "      <td>1</td>\n",
       "      <td>Coffee Shop</td>\n",
       "      <td>Clothing Store</td>\n",
       "      <td>Italian Restaurant</td>\n",
       "      <td>Bubble Tea Shop</td>\n",
       "      <td>Café</td>\n",
       "      <td>Japanese Restaurant</td>\n",
       "      <td>Cosmetics Shop</td>\n",
       "      <td>Tea Room</td>\n",
       "      <td>Bookstore</td>\n",
       "      <td>Hotel</td>\n",
       "    </tr>\n",
       "    <tr>\n",
       "      <th>...</th>\n",
       "      <td>...</td>\n",
       "      <td>...</td>\n",
       "      <td>...</td>\n",
       "      <td>...</td>\n",
       "      <td>...</td>\n",
       "      <td>...</td>\n",
       "      <td>...</td>\n",
       "      <td>...</td>\n",
       "      <td>...</td>\n",
       "      <td>...</td>\n",
       "      <td>...</td>\n",
       "      <td>...</td>\n",
       "    </tr>\n",
       "    <tr>\n",
       "      <th>96</th>\n",
       "      <td>St. James Town, Cabbagetown</td>\n",
       "      <td>1</td>\n",
       "      <td>Pizza Place</td>\n",
       "      <td>Restaurant</td>\n",
       "      <td>Coffee Shop</td>\n",
       "      <td>Café</td>\n",
       "      <td>Bakery</td>\n",
       "      <td>Park</td>\n",
       "      <td>Market</td>\n",
       "      <td>Convenience Store</td>\n",
       "      <td>Italian Restaurant</td>\n",
       "      <td>Pet Store</td>\n",
       "    </tr>\n",
       "    <tr>\n",
       "      <th>97</th>\n",
       "      <td>First Canadian Place, Underground city</td>\n",
       "      <td>1</td>\n",
       "      <td>Coffee Shop</td>\n",
       "      <td>Café</td>\n",
       "      <td>Hotel</td>\n",
       "      <td>Gym</td>\n",
       "      <td>Restaurant</td>\n",
       "      <td>Japanese Restaurant</td>\n",
       "      <td>Steakhouse</td>\n",
       "      <td>Seafood Restaurant</td>\n",
       "      <td>Deli / Bodega</td>\n",
       "      <td>American Restaurant</td>\n",
       "    </tr>\n",
       "    <tr>\n",
       "      <th>99</th>\n",
       "      <td>Church and Wellesley</td>\n",
       "      <td>1</td>\n",
       "      <td>Coffee Shop</td>\n",
       "      <td>Sushi Restaurant</td>\n",
       "      <td>Japanese Restaurant</td>\n",
       "      <td>Restaurant</td>\n",
       "      <td>Gay Bar</td>\n",
       "      <td>Café</td>\n",
       "      <td>Pub</td>\n",
       "      <td>Men's Store</td>\n",
       "      <td>Mediterranean Restaurant</td>\n",
       "      <td>Hotel</td>\n",
       "    </tr>\n",
       "    <tr>\n",
       "      <th>100</th>\n",
       "      <td>Business reply mail Processing Centre, South C...</td>\n",
       "      <td>1</td>\n",
       "      <td>Light Rail Station</td>\n",
       "      <td>Yoga Studio</td>\n",
       "      <td>Butcher</td>\n",
       "      <td>Skate Park</td>\n",
       "      <td>Auto Workshop</td>\n",
       "      <td>Burrito Place</td>\n",
       "      <td>Fast Food Restaurant</td>\n",
       "      <td>Farmers Market</td>\n",
       "      <td>Garden Center</td>\n",
       "      <td>Garden</td>\n",
       "    </tr>\n",
       "    <tr>\n",
       "      <th>102</th>\n",
       "      <td>Mimico NW, The Queensway West, South of Bloor,...</td>\n",
       "      <td>1</td>\n",
       "      <td>Gym</td>\n",
       "      <td>Tanning Salon</td>\n",
       "      <td>Convenience Store</td>\n",
       "      <td>Discount Store</td>\n",
       "      <td>Burrito Place</td>\n",
       "      <td>Burger Joint</td>\n",
       "      <td>Sandwich Place</td>\n",
       "      <td>Flower Shop</td>\n",
       "      <td>Bakery</td>\n",
       "      <td>Supplement Shop</td>\n",
       "    </tr>\n",
       "  </tbody>\n",
       "</table>\n",
       "<p>66 rows × 12 columns</p>\n",
       "</div>"
      ],
      "text/plain": [
       "                                          Neighborhood  Cluster Labels  \\\n",
       "2                            Regent Park, Harbourfront               1   \n",
       "3                     Lawrence Manor, Lawrence Heights               1   \n",
       "4          Queen's Park, Ontario Provincial Government               1   \n",
       "7                                            Don Mills               1   \n",
       "9                             Garden District, Ryerson               1   \n",
       "..                                                 ...             ...   \n",
       "96                         St. James Town, Cabbagetown               1   \n",
       "97              First Canadian Place, Underground city               1   \n",
       "99                                Church and Wellesley               1   \n",
       "100  Business reply mail Processing Centre, South C...               1   \n",
       "102  Mimico NW, The Queensway West, South of Bloor,...               1   \n",
       "\n",
       "    1st Most Common Venue 2nd Most Common Venue 3rd Most Common Venue  \\\n",
       "2             Coffee Shop                Bakery                   Pub   \n",
       "3          Clothing Store     Accessories Store   Arts & Crafts Store   \n",
       "4             Coffee Shop                 Diner           Yoga Studio   \n",
       "7                     Gym   Japanese Restaurant                  Café   \n",
       "9             Coffee Shop        Clothing Store    Italian Restaurant   \n",
       "..                    ...                   ...                   ...   \n",
       "96            Pizza Place            Restaurant           Coffee Shop   \n",
       "97            Coffee Shop                  Café                 Hotel   \n",
       "99            Coffee Shop      Sushi Restaurant   Japanese Restaurant   \n",
       "100    Light Rail Station           Yoga Studio               Butcher   \n",
       "102                   Gym         Tanning Salon     Convenience Store   \n",
       "\n",
       "      4th Most Common Venue 5th Most Common Venue 6th Most Common Venue  \\\n",
       "2                      Park               Theater        Breakfast Spot   \n",
       "3    Furniture / Home Store           Event Space    Miscellaneous Shop   \n",
       "4            Sandwich Place            Restaurant                  Park   \n",
       "7       Sporting Goods Shop           Coffee Shop            Beer Store   \n",
       "9           Bubble Tea Shop                  Café   Japanese Restaurant   \n",
       "..                      ...                   ...                   ...   \n",
       "96                     Café                Bakery                  Park   \n",
       "97                      Gym            Restaurant   Japanese Restaurant   \n",
       "99               Restaurant               Gay Bar                  Café   \n",
       "100              Skate Park         Auto Workshop         Burrito Place   \n",
       "102          Discount Store         Burrito Place          Burger Joint   \n",
       "\n",
       "    7th Most Common Venue 8th Most Common Venue     9th Most Common Venue  \\\n",
       "2                    Café           Yoga Studio                Shoe Store   \n",
       "3             Coffee Shop              Boutique             Women's Store   \n",
       "4      Mexican Restaurant            Hobby Shop       Fried Chicken Joint   \n",
       "7              Restaurant           Supermarket        Dim Sum Restaurant   \n",
       "9          Cosmetics Shop              Tea Room                 Bookstore   \n",
       "..                    ...                   ...                       ...   \n",
       "96                 Market     Convenience Store        Italian Restaurant   \n",
       "97             Steakhouse    Seafood Restaurant             Deli / Bodega   \n",
       "99                    Pub           Men's Store  Mediterranean Restaurant   \n",
       "100  Fast Food Restaurant        Farmers Market             Garden Center   \n",
       "102        Sandwich Place           Flower Shop                    Bakery   \n",
       "\n",
       "    10th Most Common Venue  \n",
       "2               Restaurant  \n",
       "3    Vietnamese Restaurant  \n",
       "4      Distribution Center  \n",
       "7       Italian Restaurant  \n",
       "9                    Hotel  \n",
       "..                     ...  \n",
       "96               Pet Store  \n",
       "97     American Restaurant  \n",
       "99                   Hotel  \n",
       "100                 Garden  \n",
       "102        Supplement Shop  \n",
       "\n",
       "[66 rows x 12 columns]"
      ]
     },
     "execution_count": 29,
     "metadata": {},
     "output_type": "execute_result"
    }
   ],
   "source": [
    "toronto_merged.loc[toronto_merged['Cluster Labels'] == 1, toronto_merged.columns[[2] + list(range(5, toronto_merged.shape[1]))]]"
   ]
  },
  {
   "cell_type": "code",
   "execution_count": 30,
   "metadata": {
    "ExecuteTime": {
     "end_time": "2020-07-27T12:36:39.510373Z",
     "start_time": "2020-07-27T12:36:39.497425Z"
    }
   },
   "outputs": [
    {
     "data": {
      "text/html": [
       "<div>\n",
       "<style scoped>\n",
       "    .dataframe tbody tr th:only-of-type {\n",
       "        vertical-align: middle;\n",
       "    }\n",
       "\n",
       "    .dataframe tbody tr th {\n",
       "        vertical-align: top;\n",
       "    }\n",
       "\n",
       "    .dataframe thead th {\n",
       "        text-align: right;\n",
       "    }\n",
       "</style>\n",
       "<table border=\"1\" class=\"dataframe\">\n",
       "  <thead>\n",
       "    <tr style=\"text-align: right;\">\n",
       "      <th></th>\n",
       "      <th>Neighborhood</th>\n",
       "      <th>Cluster Labels</th>\n",
       "      <th>1st Most Common Venue</th>\n",
       "      <th>2nd Most Common Venue</th>\n",
       "      <th>3rd Most Common Venue</th>\n",
       "      <th>4th Most Common Venue</th>\n",
       "      <th>5th Most Common Venue</th>\n",
       "      <th>6th Most Common Venue</th>\n",
       "      <th>7th Most Common Venue</th>\n",
       "      <th>8th Most Common Venue</th>\n",
       "      <th>9th Most Common Venue</th>\n",
       "      <th>10th Most Common Venue</th>\n",
       "    </tr>\n",
       "  </thead>\n",
       "  <tbody>\n",
       "    <tr>\n",
       "      <th>0</th>\n",
       "      <td>Parkwoods</td>\n",
       "      <td>2</td>\n",
       "      <td>Park</td>\n",
       "      <td>Food &amp; Drink Shop</td>\n",
       "      <td>Yoga Studio</td>\n",
       "      <td>Dog Run</td>\n",
       "      <td>Dessert Shop</td>\n",
       "      <td>Dim Sum Restaurant</td>\n",
       "      <td>Diner</td>\n",
       "      <td>Discount Store</td>\n",
       "      <td>Distribution Center</td>\n",
       "      <td>Doner Restaurant</td>\n",
       "    </tr>\n",
       "    <tr>\n",
       "      <th>21</th>\n",
       "      <td>Caledonia-Fairbanks</td>\n",
       "      <td>2</td>\n",
       "      <td>Park</td>\n",
       "      <td>Women's Store</td>\n",
       "      <td>Pool</td>\n",
       "      <td>Dog Run</td>\n",
       "      <td>Dessert Shop</td>\n",
       "      <td>Dim Sum Restaurant</td>\n",
       "      <td>Diner</td>\n",
       "      <td>Discount Store</td>\n",
       "      <td>Distribution Center</td>\n",
       "      <td>Donut Shop</td>\n",
       "    </tr>\n",
       "    <tr>\n",
       "      <th>35</th>\n",
       "      <td>East Toronto, Broadview North (Old East York)</td>\n",
       "      <td>2</td>\n",
       "      <td>Park</td>\n",
       "      <td>Convenience Store</td>\n",
       "      <td>Donut Shop</td>\n",
       "      <td>Dim Sum Restaurant</td>\n",
       "      <td>Diner</td>\n",
       "      <td>Discount Store</td>\n",
       "      <td>Distribution Center</td>\n",
       "      <td>Dog Run</td>\n",
       "      <td>Doner Restaurant</td>\n",
       "      <td>Yoga Studio</td>\n",
       "    </tr>\n",
       "    <tr>\n",
       "      <th>52</th>\n",
       "      <td>Willowdale, Newtonbrook</td>\n",
       "      <td>2</td>\n",
       "      <td>Park</td>\n",
       "      <td>Yoga Studio</td>\n",
       "      <td>Doner Restaurant</td>\n",
       "      <td>Dessert Shop</td>\n",
       "      <td>Dim Sum Restaurant</td>\n",
       "      <td>Diner</td>\n",
       "      <td>Discount Store</td>\n",
       "      <td>Distribution Center</td>\n",
       "      <td>Dog Run</td>\n",
       "      <td>Donut Shop</td>\n",
       "    </tr>\n",
       "    <tr>\n",
       "      <th>61</th>\n",
       "      <td>Lawrence Park</td>\n",
       "      <td>2</td>\n",
       "      <td>Park</td>\n",
       "      <td>Bus Line</td>\n",
       "      <td>Swim School</td>\n",
       "      <td>Yoga Studio</td>\n",
       "      <td>Dog Run</td>\n",
       "      <td>Dim Sum Restaurant</td>\n",
       "      <td>Diner</td>\n",
       "      <td>Discount Store</td>\n",
       "      <td>Distribution Center</td>\n",
       "      <td>Doner Restaurant</td>\n",
       "    </tr>\n",
       "    <tr>\n",
       "      <th>64</th>\n",
       "      <td>Weston</td>\n",
       "      <td>2</td>\n",
       "      <td>Convenience Store</td>\n",
       "      <td>Park</td>\n",
       "      <td>Donut Shop</td>\n",
       "      <td>Dim Sum Restaurant</td>\n",
       "      <td>Diner</td>\n",
       "      <td>Discount Store</td>\n",
       "      <td>Distribution Center</td>\n",
       "      <td>Dog Run</td>\n",
       "      <td>Doner Restaurant</td>\n",
       "      <td>Yoga Studio</td>\n",
       "    </tr>\n",
       "    <tr>\n",
       "      <th>66</th>\n",
       "      <td>York Mills West</td>\n",
       "      <td>2</td>\n",
       "      <td>Park</td>\n",
       "      <td>Convenience Store</td>\n",
       "      <td>Donut Shop</td>\n",
       "      <td>Dim Sum Restaurant</td>\n",
       "      <td>Diner</td>\n",
       "      <td>Discount Store</td>\n",
       "      <td>Distribution Center</td>\n",
       "      <td>Dog Run</td>\n",
       "      <td>Doner Restaurant</td>\n",
       "      <td>Yoga Studio</td>\n",
       "    </tr>\n",
       "    <tr>\n",
       "      <th>77</th>\n",
       "      <td>Kingsview Village, St. Phillips, Martin Grove ...</td>\n",
       "      <td>2</td>\n",
       "      <td>Park</td>\n",
       "      <td>Sandwich Place</td>\n",
       "      <td>Yoga Studio</td>\n",
       "      <td>Dog Run</td>\n",
       "      <td>Dessert Shop</td>\n",
       "      <td>Dim Sum Restaurant</td>\n",
       "      <td>Diner</td>\n",
       "      <td>Discount Store</td>\n",
       "      <td>Distribution Center</td>\n",
       "      <td>Doner Restaurant</td>\n",
       "    </tr>\n",
       "    <tr>\n",
       "      <th>85</th>\n",
       "      <td>Milliken, Agincourt North, Steeles East, L'Amo...</td>\n",
       "      <td>2</td>\n",
       "      <td>Park</td>\n",
       "      <td>Playground</td>\n",
       "      <td>Yoga Studio</td>\n",
       "      <td>Dog Run</td>\n",
       "      <td>Dessert Shop</td>\n",
       "      <td>Dim Sum Restaurant</td>\n",
       "      <td>Diner</td>\n",
       "      <td>Discount Store</td>\n",
       "      <td>Distribution Center</td>\n",
       "      <td>Donut Shop</td>\n",
       "    </tr>\n",
       "    <tr>\n",
       "      <th>91</th>\n",
       "      <td>Rosedale</td>\n",
       "      <td>2</td>\n",
       "      <td>Park</td>\n",
       "      <td>Trail</td>\n",
       "      <td>Playground</td>\n",
       "      <td>Dog Run</td>\n",
       "      <td>Department Store</td>\n",
       "      <td>Dessert Shop</td>\n",
       "      <td>Dim Sum Restaurant</td>\n",
       "      <td>Diner</td>\n",
       "      <td>Discount Store</td>\n",
       "      <td>Distribution Center</td>\n",
       "    </tr>\n",
       "    <tr>\n",
       "      <th>98</th>\n",
       "      <td>The Kingsway, Montgomery Road, Old Mill North</td>\n",
       "      <td>2</td>\n",
       "      <td>Park</td>\n",
       "      <td>River</td>\n",
       "      <td>Pool</td>\n",
       "      <td>Yoga Studio</td>\n",
       "      <td>Distribution Center</td>\n",
       "      <td>Department Store</td>\n",
       "      <td>Dessert Shop</td>\n",
       "      <td>Dim Sum Restaurant</td>\n",
       "      <td>Diner</td>\n",
       "      <td>Discount Store</td>\n",
       "    </tr>\n",
       "    <tr>\n",
       "      <th>101</th>\n",
       "      <td>Old Mill South, King's Mill Park, Sunnylea, Hu...</td>\n",
       "      <td>2</td>\n",
       "      <td>Deli / Bodega</td>\n",
       "      <td>Park</td>\n",
       "      <td>Baseball Field</td>\n",
       "      <td>Doner Restaurant</td>\n",
       "      <td>Dim Sum Restaurant</td>\n",
       "      <td>Diner</td>\n",
       "      <td>Discount Store</td>\n",
       "      <td>Distribution Center</td>\n",
       "      <td>Dog Run</td>\n",
       "      <td>Donut Shop</td>\n",
       "    </tr>\n",
       "  </tbody>\n",
       "</table>\n",
       "</div>"
      ],
      "text/plain": [
       "                                          Neighborhood  Cluster Labels  \\\n",
       "0                                            Parkwoods               2   \n",
       "21                                 Caledonia-Fairbanks               2   \n",
       "35       East Toronto, Broadview North (Old East York)               2   \n",
       "52                             Willowdale, Newtonbrook               2   \n",
       "61                                       Lawrence Park               2   \n",
       "64                                              Weston               2   \n",
       "66                                     York Mills West               2   \n",
       "77   Kingsview Village, St. Phillips, Martin Grove ...               2   \n",
       "85   Milliken, Agincourt North, Steeles East, L'Amo...               2   \n",
       "91                                            Rosedale               2   \n",
       "98       The Kingsway, Montgomery Road, Old Mill North               2   \n",
       "101  Old Mill South, King's Mill Park, Sunnylea, Hu...               2   \n",
       "\n",
       "    1st Most Common Venue 2nd Most Common Venue 3rd Most Common Venue  \\\n",
       "0                    Park     Food & Drink Shop           Yoga Studio   \n",
       "21                   Park         Women's Store                  Pool   \n",
       "35                   Park     Convenience Store            Donut Shop   \n",
       "52                   Park           Yoga Studio      Doner Restaurant   \n",
       "61                   Park              Bus Line           Swim School   \n",
       "64      Convenience Store                  Park            Donut Shop   \n",
       "66                   Park     Convenience Store            Donut Shop   \n",
       "77                   Park        Sandwich Place           Yoga Studio   \n",
       "85                   Park            Playground           Yoga Studio   \n",
       "91                   Park                 Trail            Playground   \n",
       "98                   Park                 River                  Pool   \n",
       "101         Deli / Bodega                  Park        Baseball Field   \n",
       "\n",
       "    4th Most Common Venue 5th Most Common Venue 6th Most Common Venue  \\\n",
       "0                 Dog Run          Dessert Shop    Dim Sum Restaurant   \n",
       "21                Dog Run          Dessert Shop    Dim Sum Restaurant   \n",
       "35     Dim Sum Restaurant                 Diner        Discount Store   \n",
       "52           Dessert Shop    Dim Sum Restaurant                 Diner   \n",
       "61            Yoga Studio               Dog Run    Dim Sum Restaurant   \n",
       "64     Dim Sum Restaurant                 Diner        Discount Store   \n",
       "66     Dim Sum Restaurant                 Diner        Discount Store   \n",
       "77                Dog Run          Dessert Shop    Dim Sum Restaurant   \n",
       "85                Dog Run          Dessert Shop    Dim Sum Restaurant   \n",
       "91                Dog Run      Department Store          Dessert Shop   \n",
       "98            Yoga Studio   Distribution Center      Department Store   \n",
       "101      Doner Restaurant    Dim Sum Restaurant                 Diner   \n",
       "\n",
       "    7th Most Common Venue 8th Most Common Venue 9th Most Common Venue  \\\n",
       "0                   Diner        Discount Store   Distribution Center   \n",
       "21                  Diner        Discount Store   Distribution Center   \n",
       "35    Distribution Center               Dog Run      Doner Restaurant   \n",
       "52         Discount Store   Distribution Center               Dog Run   \n",
       "61                  Diner        Discount Store   Distribution Center   \n",
       "64    Distribution Center               Dog Run      Doner Restaurant   \n",
       "66    Distribution Center               Dog Run      Doner Restaurant   \n",
       "77                  Diner        Discount Store   Distribution Center   \n",
       "85                  Diner        Discount Store   Distribution Center   \n",
       "91     Dim Sum Restaurant                 Diner        Discount Store   \n",
       "98           Dessert Shop    Dim Sum Restaurant                 Diner   \n",
       "101        Discount Store   Distribution Center               Dog Run   \n",
       "\n",
       "    10th Most Common Venue  \n",
       "0         Doner Restaurant  \n",
       "21              Donut Shop  \n",
       "35             Yoga Studio  \n",
       "52              Donut Shop  \n",
       "61        Doner Restaurant  \n",
       "64             Yoga Studio  \n",
       "66             Yoga Studio  \n",
       "77        Doner Restaurant  \n",
       "85              Donut Shop  \n",
       "91     Distribution Center  \n",
       "98          Discount Store  \n",
       "101             Donut Shop  "
      ]
     },
     "execution_count": 30,
     "metadata": {},
     "output_type": "execute_result"
    }
   ],
   "source": [
    "toronto_merged.loc[toronto_merged['Cluster Labels'] == 2, toronto_merged.columns[[2] + list(range(5, toronto_merged.shape[1]))]]"
   ]
  },
  {
   "cell_type": "code",
   "execution_count": 31,
   "metadata": {
    "ExecuteTime": {
     "end_time": "2020-07-27T12:36:39.521077Z",
     "start_time": "2020-07-27T12:36:39.511674Z"
    }
   },
   "outputs": [
    {
     "data": {
      "text/html": [
       "<div>\n",
       "<style scoped>\n",
       "    .dataframe tbody tr th:only-of-type {\n",
       "        vertical-align: middle;\n",
       "    }\n",
       "\n",
       "    .dataframe tbody tr th {\n",
       "        vertical-align: top;\n",
       "    }\n",
       "\n",
       "    .dataframe thead th {\n",
       "        text-align: right;\n",
       "    }\n",
       "</style>\n",
       "<table border=\"1\" class=\"dataframe\">\n",
       "  <thead>\n",
       "    <tr style=\"text-align: right;\">\n",
       "      <th></th>\n",
       "      <th>Neighborhood</th>\n",
       "      <th>Cluster Labels</th>\n",
       "      <th>1st Most Common Venue</th>\n",
       "      <th>2nd Most Common Venue</th>\n",
       "      <th>3rd Most Common Venue</th>\n",
       "      <th>4th Most Common Venue</th>\n",
       "      <th>5th Most Common Venue</th>\n",
       "      <th>6th Most Common Venue</th>\n",
       "      <th>7th Most Common Venue</th>\n",
       "      <th>8th Most Common Venue</th>\n",
       "      <th>9th Most Common Venue</th>\n",
       "      <th>10th Most Common Venue</th>\n",
       "    </tr>\n",
       "  </thead>\n",
       "  <tbody>\n",
       "    <tr>\n",
       "      <th>50</th>\n",
       "      <td>Humber Summit</td>\n",
       "      <td>3</td>\n",
       "      <td>Gym</td>\n",
       "      <td>Pizza Place</td>\n",
       "      <td>Afghan Restaurant</td>\n",
       "      <td>Falafel Restaurant</td>\n",
       "      <td>Ethiopian Restaurant</td>\n",
       "      <td>Electronics Store</td>\n",
       "      <td>Eastern European Restaurant</td>\n",
       "      <td>Dumpling Restaurant</td>\n",
       "      <td>Drugstore</td>\n",
       "      <td>Donut Shop</td>\n",
       "    </tr>\n",
       "    <tr>\n",
       "      <th>83</th>\n",
       "      <td>Moore Park, Summerhill East</td>\n",
       "      <td>3</td>\n",
       "      <td>Gym</td>\n",
       "      <td>Tennis Court</td>\n",
       "      <td>Dog Run</td>\n",
       "      <td>Dessert Shop</td>\n",
       "      <td>Dim Sum Restaurant</td>\n",
       "      <td>Diner</td>\n",
       "      <td>Discount Store</td>\n",
       "      <td>Distribution Center</td>\n",
       "      <td>Doner Restaurant</td>\n",
       "      <td>Deli / Bodega</td>\n",
       "    </tr>\n",
       "  </tbody>\n",
       "</table>\n",
       "</div>"
      ],
      "text/plain": [
       "                   Neighborhood  Cluster Labels 1st Most Common Venue  \\\n",
       "50                Humber Summit               3                   Gym   \n",
       "83  Moore Park, Summerhill East               3                   Gym   \n",
       "\n",
       "   2nd Most Common Venue 3rd Most Common Venue 4th Most Common Venue  \\\n",
       "50           Pizza Place     Afghan Restaurant    Falafel Restaurant   \n",
       "83          Tennis Court               Dog Run          Dessert Shop   \n",
       "\n",
       "   5th Most Common Venue 6th Most Common Venue        7th Most Common Venue  \\\n",
       "50  Ethiopian Restaurant     Electronics Store  Eastern European Restaurant   \n",
       "83    Dim Sum Restaurant                 Diner               Discount Store   \n",
       "\n",
       "   8th Most Common Venue 9th Most Common Venue 10th Most Common Venue  \n",
       "50   Dumpling Restaurant             Drugstore             Donut Shop  \n",
       "83   Distribution Center      Doner Restaurant          Deli / Bodega  "
      ]
     },
     "execution_count": 31,
     "metadata": {},
     "output_type": "execute_result"
    }
   ],
   "source": [
    "toronto_merged.loc[toronto_merged['Cluster Labels'] == 3, toronto_merged.columns[[2] + list(range(5, toronto_merged.shape[1]))]]"
   ]
  },
  {
   "cell_type": "code",
   "execution_count": null,
   "metadata": {},
   "outputs": [],
   "source": []
  },
  {
   "cell_type": "code",
   "execution_count": 32,
   "metadata": {
    "ExecuteTime": {
     "end_time": "2020-07-27T12:36:39.535597Z",
     "start_time": "2020-07-27T12:36:39.522288Z"
    }
   },
   "outputs": [
    {
     "data": {
      "text/html": [
       "<div>\n",
       "<style scoped>\n",
       "    .dataframe tbody tr th:only-of-type {\n",
       "        vertical-align: middle;\n",
       "    }\n",
       "\n",
       "    .dataframe tbody tr th {\n",
       "        vertical-align: top;\n",
       "    }\n",
       "\n",
       "    .dataframe thead th {\n",
       "        text-align: right;\n",
       "    }\n",
       "</style>\n",
       "<table border=\"1\" class=\"dataframe\">\n",
       "  <thead>\n",
       "    <tr style=\"text-align: right;\">\n",
       "      <th></th>\n",
       "      <th>Neighborhood</th>\n",
       "      <th>Cluster Labels</th>\n",
       "      <th>1st Most Common Venue</th>\n",
       "      <th>2nd Most Common Venue</th>\n",
       "      <th>3rd Most Common Venue</th>\n",
       "      <th>4th Most Common Venue</th>\n",
       "      <th>5th Most Common Venue</th>\n",
       "      <th>6th Most Common Venue</th>\n",
       "      <th>7th Most Common Venue</th>\n",
       "      <th>8th Most Common Venue</th>\n",
       "      <th>9th Most Common Venue</th>\n",
       "      <th>10th Most Common Venue</th>\n",
       "    </tr>\n",
       "  </thead>\n",
       "  <tbody>\n",
       "    <tr>\n",
       "      <th>62</th>\n",
       "      <td>Roselawn</td>\n",
       "      <td>4</td>\n",
       "      <td>Music Venue</td>\n",
       "      <td>Garden</td>\n",
       "      <td>Yoga Studio</td>\n",
       "      <td>Distribution Center</td>\n",
       "      <td>Dessert Shop</td>\n",
       "      <td>Dim Sum Restaurant</td>\n",
       "      <td>Diner</td>\n",
       "      <td>Discount Store</td>\n",
       "      <td>Dog Run</td>\n",
       "      <td>Deli / Bodega</td>\n",
       "    </tr>\n",
       "  </tbody>\n",
       "</table>\n",
       "</div>"
      ],
      "text/plain": [
       "   Neighborhood  Cluster Labels 1st Most Common Venue 2nd Most Common Venue  \\\n",
       "62     Roselawn               4           Music Venue                Garden   \n",
       "\n",
       "   3rd Most Common Venue 4th Most Common Venue 5th Most Common Venue  \\\n",
       "62           Yoga Studio   Distribution Center          Dessert Shop   \n",
       "\n",
       "   6th Most Common Venue 7th Most Common Venue 8th Most Common Venue  \\\n",
       "62    Dim Sum Restaurant                 Diner        Discount Store   \n",
       "\n",
       "   9th Most Common Venue 10th Most Common Venue  \n",
       "62               Dog Run          Deli / Bodega  "
      ]
     },
     "execution_count": 32,
     "metadata": {},
     "output_type": "execute_result"
    }
   ],
   "source": [
    "toronto_merged.loc[toronto_merged['Cluster Labels'] == 4, toronto_merged.columns[[2] + list(range(5, toronto_merged.shape[1]))]]"
   ]
  },
  {
   "cell_type": "markdown",
   "metadata": {},
   "source": [
    "I would say the neighborhoods could be classified as being rich in:\n",
    "0. Restaurants\n",
    "1. Cafés\n",
    "2. Parks\n",
    "3. Gyms\n",
    "4. Music"
   ]
  },
  {
   "cell_type": "code",
   "execution_count": null,
   "metadata": {},
   "outputs": [],
   "source": []
  }
 ],
 "metadata": {
  "kernelspec": {
   "display_name": "Python 3",
   "language": "python",
   "name": "python3"
  },
  "language_info": {
   "codemirror_mode": {
    "name": "ipython",
    "version": 3
   },
   "file_extension": ".py",
   "mimetype": "text/x-python",
   "name": "python",
   "nbconvert_exporter": "python",
   "pygments_lexer": "ipython3",
   "version": "3.8.2"
  },
  "toc": {
   "base_numbering": 1,
   "nav_menu": {},
   "number_sections": true,
   "sideBar": true,
   "skip_h1_title": false,
   "title_cell": "Table of Contents",
   "title_sidebar": "Contents",
   "toc_cell": false,
   "toc_position": {},
   "toc_section_display": true,
   "toc_window_display": false
  },
  "varInspector": {
   "cols": {
    "lenName": 16,
    "lenType": 16,
    "lenVar": 40
   },
   "kernels_config": {
    "python": {
     "delete_cmd_postfix": "",
     "delete_cmd_prefix": "del ",
     "library": "var_list.py",
     "varRefreshCmd": "print(var_dic_list())"
    },
    "r": {
     "delete_cmd_postfix": ") ",
     "delete_cmd_prefix": "rm(",
     "library": "var_list.r",
     "varRefreshCmd": "cat(var_dic_list()) "
    }
   },
   "types_to_exclude": [
    "module",
    "function",
    "builtin_function_or_method",
    "instance",
    "_Feature"
   ],
   "window_display": false
  }
 },
 "nbformat": 4,
 "nbformat_minor": 4
}
